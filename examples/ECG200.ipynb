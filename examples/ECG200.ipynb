{
 "cells": [
  {
   "cell_type": "markdown",
   "id": "00b4cce5-0973-46a6-bd36-b857ed5d3468",
   "metadata": {
    "tags": []
   },
   "source": [
    "# UCR Dataset: ECG200"
   ]
  },
  {
   "cell_type": "markdown",
   "id": "176ecc70-6bb5-47b6-be2e-b4908667eb32",
   "metadata": {
    "tags": []
   },
   "source": [
    "**Dataset Homepage:** https://timeseriesclassification.com/description.php?Dataset=ECG200."
   ]
  },
  {
   "cell_type": "markdown",
   "id": "21e51ab5-ec10-4707-b24f-61d7b9789140",
   "metadata": {
    "tags": []
   },
   "source": [
    "### 1. Environment set-up"
   ]
  },
  {
   "cell_type": "markdown",
   "id": "8cbb7d39-b132-4de3-bd41-c1853c600675",
   "metadata": {},
   "source": [
    "1. This notebook contains elements which render correctly in Jupyter interface. Open this notebook from an Amazon SageMaker Notebook Instance or Amazon SageMaker Studio.\n",
    "1. Ensure that IAM role used has **AmazonSageMakerFullAccess**\n",
    "1. Some hands-on experience using [Amazon SageMaker](https://aws.amazon.com/sagemaker/).\n",
    "1. To use this algorithm successfully, ensure that:\n",
    "    1. Either your IAM role has these three permissions and you have authority to make AWS Marketplace subscriptions in the AWS account used: \n",
    "        1. **aws-marketplace:ViewSubscriptions**\n",
    "        1. **aws-marketplace:Unsubscribe**\n",
    "        1. **aws-marketplace:Subscribe**  \n",
    "    2. or your AWS account has a subscription to the [Time Series Classification (LSTM-FCN) Algorithm from AWS Marketplace](https://aws.amazon.com/marketplace/pp/prodview-vzxmyw25oqtx6).\n",
    "\n",
    "To subscribe to the algorithm:\n",
    "1. Open the algorithm listing page.\n",
    "1. On the AWS Marketplace listing, click on the **Continue to subscribe** button.\n",
    "1. On the **Subscribe to this software** page, review and click on **\"Accept Offer\"** if you agree with EULA, pricing, and support terms. \n",
    "1. Once you click on the **Continue to configuration** button and then choose a **region**, you will see a **Product ARN**. This is the algorithm ARN that you need to specify while training a custom ML model. **Copy the ARN corresponding to your region and specify the same in the following cell.**"
   ]
  },
  {
   "cell_type": "code",
   "execution_count": 1,
   "id": "8de79055-f675-469f-b6d5-a6e3fe1ecc11",
   "metadata": {
    "tags": []
   },
   "outputs": [],
   "source": [
    "algo_arn = \"arn:aws:sagemaker:eu-west-1:661670223746:algorithm/lstm-fcn-algo-v1-9\""
   ]
  },
  {
   "cell_type": "code",
   "execution_count": 2,
   "id": "80280b9b-6f4a-477c-96e8-c547a9782d4b",
   "metadata": {
    "tags": []
   },
   "outputs": [],
   "source": [
    "import sagemaker\n",
    "import pandas as pd\n",
    "import numpy as np\n",
    "import matplotlib.pyplot as plt\n",
    "from sklearn.metrics import classification_report\n",
    "\n",
    "# SageMaker session\n",
    "sagemaker_session = sagemaker.Session()\n",
    "\n",
    "# SageMaker role\n",
    "role = sagemaker.get_execution_role()\n",
    "\n",
    "# S3 bucket\n",
    "bucket = sagemaker_session.default_bucket()\n",
    "\n",
    "# EC2 instance\n",
    "instance_type = \"ml.m5.xlarge\""
   ]
  },
  {
   "cell_type": "markdown",
   "id": "67719620-88fe-4fdf-84a2-60b62069863f",
   "metadata": {},
   "source": [
    "### 2. Data preparation"
   ]
  },
  {
   "cell_type": "markdown",
   "id": "814efa03-16dd-478c-a0a7-c8c5c99603ba",
   "metadata": {
    "tags": []
   },
   "source": [
    "#### 2.1 Training dataset"
   ]
  },
  {
   "cell_type": "markdown",
   "id": "4683eacd-0cd5-47fd-a530-31ccccb37935",
   "metadata": {},
   "source": [
    "Load the training data."
   ]
  },
  {
   "cell_type": "code",
   "execution_count": 3,
   "id": "82c3df99-a4cc-44e2-8960-f4a6943d1f3f",
   "metadata": {
    "tags": []
   },
   "outputs": [],
   "source": [
    "training_dataset = pd.DataFrame(data=np.genfromtxt(\"ECG200_TRAIN.txt\"))"
   ]
  },
  {
   "cell_type": "code",
   "execution_count": 4,
   "id": "dbc5f943-327e-41e9-bd8d-6891afa7f0f2",
   "metadata": {
    "tags": []
   },
   "outputs": [
    {
     "data": {
      "text/plain": [
       "(100, 97)"
      ]
     },
     "execution_count": 4,
     "metadata": {},
     "output_type": "execute_result"
    }
   ],
   "source": [
    "training_dataset.shape"
   ]
  },
  {
   "cell_type": "code",
   "execution_count": 5,
   "id": "25b44428-95fd-4394-af1d-cf268e36818b",
   "metadata": {
    "tags": []
   },
   "outputs": [
    {
     "data": {
      "text/html": [
       "<div>\n",
       "<style scoped>\n",
       "    .dataframe tbody tr th:only-of-type {\n",
       "        vertical-align: middle;\n",
       "    }\n",
       "\n",
       "    .dataframe tbody tr th {\n",
       "        vertical-align: top;\n",
       "    }\n",
       "\n",
       "    .dataframe thead th {\n",
       "        text-align: right;\n",
       "    }\n",
       "</style>\n",
       "<table border=\"1\" class=\"dataframe\">\n",
       "  <thead>\n",
       "    <tr style=\"text-align: right;\">\n",
       "      <th></th>\n",
       "      <th>0</th>\n",
       "      <th>1</th>\n",
       "      <th>2</th>\n",
       "      <th>3</th>\n",
       "      <th>4</th>\n",
       "      <th>5</th>\n",
       "      <th>6</th>\n",
       "      <th>7</th>\n",
       "      <th>8</th>\n",
       "      <th>9</th>\n",
       "      <th>...</th>\n",
       "      <th>87</th>\n",
       "      <th>88</th>\n",
       "      <th>89</th>\n",
       "      <th>90</th>\n",
       "      <th>91</th>\n",
       "      <th>92</th>\n",
       "      <th>93</th>\n",
       "      <th>94</th>\n",
       "      <th>95</th>\n",
       "      <th>96</th>\n",
       "    </tr>\n",
       "  </thead>\n",
       "  <tbody>\n",
       "    <tr>\n",
       "      <th>0</th>\n",
       "      <td>-1.0</td>\n",
       "      <td>0.502055</td>\n",
       "      <td>0.542163</td>\n",
       "      <td>0.722383</td>\n",
       "      <td>1.428885</td>\n",
       "      <td>2.136516</td>\n",
       "      <td>2.281149</td>\n",
       "      <td>1.936274</td>\n",
       "      <td>1.468890</td>\n",
       "      <td>1.008845</td>\n",
       "      <td>...</td>\n",
       "      <td>0.931043</td>\n",
       "      <td>0.610298</td>\n",
       "      <td>0.638894</td>\n",
       "      <td>0.684679</td>\n",
       "      <td>0.583238</td>\n",
       "      <td>0.640522</td>\n",
       "      <td>0.708585</td>\n",
       "      <td>0.705011</td>\n",
       "      <td>0.713815</td>\n",
       "      <td>0.433765</td>\n",
       "    </tr>\n",
       "    <tr>\n",
       "      <th>1</th>\n",
       "      <td>1.0</td>\n",
       "      <td>0.147647</td>\n",
       "      <td>0.804668</td>\n",
       "      <td>0.367771</td>\n",
       "      <td>0.243894</td>\n",
       "      <td>0.026614</td>\n",
       "      <td>-0.274402</td>\n",
       "      <td>0.096731</td>\n",
       "      <td>-0.747731</td>\n",
       "      <td>-1.609777</td>\n",
       "      <td>...</td>\n",
       "      <td>-0.533503</td>\n",
       "      <td>-0.400228</td>\n",
       "      <td>0.176084</td>\n",
       "      <td>1.111768</td>\n",
       "      <td>2.438428</td>\n",
       "      <td>2.734889</td>\n",
       "      <td>1.736054</td>\n",
       "      <td>0.036857</td>\n",
       "      <td>-1.265074</td>\n",
       "      <td>-0.208024</td>\n",
       "    </tr>\n",
       "    <tr>\n",
       "      <th>2</th>\n",
       "      <td>-1.0</td>\n",
       "      <td>0.316646</td>\n",
       "      <td>0.243199</td>\n",
       "      <td>0.370471</td>\n",
       "      <td>1.063738</td>\n",
       "      <td>1.678187</td>\n",
       "      <td>1.759558</td>\n",
       "      <td>1.697717</td>\n",
       "      <td>1.612159</td>\n",
       "      <td>1.168188</td>\n",
       "      <td>...</td>\n",
       "      <td>0.764229</td>\n",
       "      <td>0.610621</td>\n",
       "      <td>0.552900</td>\n",
       "      <td>0.566786</td>\n",
       "      <td>0.604002</td>\n",
       "      <td>0.777068</td>\n",
       "      <td>0.812345</td>\n",
       "      <td>0.748848</td>\n",
       "      <td>0.818042</td>\n",
       "      <td>0.539347</td>\n",
       "    </tr>\n",
       "    <tr>\n",
       "      <th>3</th>\n",
       "      <td>-1.0</td>\n",
       "      <td>1.168874</td>\n",
       "      <td>2.075901</td>\n",
       "      <td>1.760141</td>\n",
       "      <td>1.606446</td>\n",
       "      <td>1.949046</td>\n",
       "      <td>1.302842</td>\n",
       "      <td>0.459332</td>\n",
       "      <td>0.516412</td>\n",
       "      <td>0.852180</td>\n",
       "      <td>...</td>\n",
       "      <td>0.419006</td>\n",
       "      <td>0.723888</td>\n",
       "      <td>1.323947</td>\n",
       "      <td>2.136488</td>\n",
       "      <td>1.746597</td>\n",
       "      <td>1.470220</td>\n",
       "      <td>1.893512</td>\n",
       "      <td>1.256949</td>\n",
       "      <td>0.800407</td>\n",
       "      <td>0.731540</td>\n",
       "    </tr>\n",
       "    <tr>\n",
       "      <th>4</th>\n",
       "      <td>1.0</td>\n",
       "      <td>0.648658</td>\n",
       "      <td>0.752026</td>\n",
       "      <td>2.636231</td>\n",
       "      <td>3.455716</td>\n",
       "      <td>2.118157</td>\n",
       "      <td>0.520620</td>\n",
       "      <td>-0.188627</td>\n",
       "      <td>0.780818</td>\n",
       "      <td>0.933775</td>\n",
       "      <td>...</td>\n",
       "      <td>-0.097869</td>\n",
       "      <td>-0.136787</td>\n",
       "      <td>-0.340237</td>\n",
       "      <td>-0.089441</td>\n",
       "      <td>-0.080297</td>\n",
       "      <td>-0.192584</td>\n",
       "      <td>-0.304704</td>\n",
       "      <td>-0.454556</td>\n",
       "      <td>0.314590</td>\n",
       "      <td>0.582190</td>\n",
       "    </tr>\n",
       "  </tbody>\n",
       "</table>\n",
       "<p>5 rows × 97 columns</p>\n",
       "</div>"
      ],
      "text/plain": [
       "    0         1         2         3         4         5         6         7    \n",
       "0 -1.0  0.502055  0.542163  0.722383  1.428885  2.136516  2.281149  1.936274  \\\n",
       "1  1.0  0.147647  0.804668  0.367771  0.243894  0.026614 -0.274402  0.096731   \n",
       "2 -1.0  0.316646  0.243199  0.370471  1.063738  1.678187  1.759558  1.697717   \n",
       "3 -1.0  1.168874  2.075901  1.760141  1.606446  1.949046  1.302842  0.459332   \n",
       "4  1.0  0.648658  0.752026  2.636231  3.455716  2.118157  0.520620 -0.188627   \n",
       "\n",
       "         8         9   ...        87        88        89        90        91   \n",
       "0  1.468890  1.008845  ...  0.931043  0.610298  0.638894  0.684679  0.583238  \\\n",
       "1 -0.747731 -1.609777  ... -0.533503 -0.400228  0.176084  1.111768  2.438428   \n",
       "2  1.612159  1.168188  ...  0.764229  0.610621  0.552900  0.566786  0.604002   \n",
       "3  0.516412  0.852180  ...  0.419006  0.723888  1.323947  2.136488  1.746597   \n",
       "4  0.780818  0.933775  ... -0.097869 -0.136787 -0.340237 -0.089441 -0.080297   \n",
       "\n",
       "         92        93        94        95        96  \n",
       "0  0.640522  0.708585  0.705011  0.713815  0.433765  \n",
       "1  2.734889  1.736054  0.036857 -1.265074 -0.208024  \n",
       "2  0.777068  0.812345  0.748848  0.818042  0.539347  \n",
       "3  1.470220  1.893512  1.256949  0.800407  0.731540  \n",
       "4 -0.192584 -0.304704 -0.454556  0.314590  0.582190  \n",
       "\n",
       "[5 rows x 97 columns]"
      ]
     },
     "execution_count": 5,
     "metadata": {},
     "output_type": "execute_result"
    }
   ],
   "source": [
    "training_dataset.head()"
   ]
  },
  {
   "cell_type": "code",
   "execution_count": 6,
   "id": "8fb846c8-3a3a-4cf1-ae4a-1fa2c778483d",
   "metadata": {
    "tags": []
   },
   "outputs": [
    {
     "data": {
      "text/plain": [
       "array([-1.,  1.])"
      ]
     },
     "execution_count": 6,
     "metadata": {},
     "output_type": "execute_result"
    }
   ],
   "source": [
    "training_dataset.iloc[:, 0].sort_values().unique()"
   ]
  },
  {
   "cell_type": "code",
   "execution_count": 7,
   "id": "8a9c6fa9-3080-4770-9e0d-af76582cc74b",
   "metadata": {
    "tags": []
   },
   "outputs": [
    {
     "data": {
      "text/plain": [
       "-1.0    31\n",
       " 1.0    69\n",
       "Name: count, dtype: int64"
      ]
     },
     "execution_count": 7,
     "metadata": {},
     "output_type": "execute_result"
    }
   ],
   "source": [
    "training_dataset.iloc[:, 0].rename(None).value_counts().sort_index()"
   ]
  },
  {
   "cell_type": "markdown",
   "id": "75ea9cdd-071a-497f-987d-e0f6a8a28f6a",
   "metadata": {},
   "source": [
    "Visualize the training data."
   ]
  },
  {
   "cell_type": "code",
   "execution_count": 8,
   "id": "aca1ef12-a703-43b7-a49f-293ade700de0",
   "metadata": {
    "tags": []
   },
   "outputs": [
    {
     "data": {
      "image/png": "[encoded data removed]",
      "text/plain": [
       "<Figure size 600x500 with 2 Axes>"
      ]
     },
     "metadata": {},
     "output_type": "display_data"
    }
   ],
   "source": [
    "fig, axs = plt.subplots(nrows=training_dataset.iloc[:, 0].nunique(), ncols=1, sharex=True, figsize=(6, 5))\n",
    "for i, c in enumerate(training_dataset.iloc[:, 0].sort_values().unique()):\n",
    "    axs[i].plot(training_dataset[training_dataset.iloc[:, 0] == c].iloc[:, 1:].transpose(), color=\"#d0d7de\", lw=0.2)\n",
    "    axs[i].plot(training_dataset[training_dataset.iloc[:, 0] == c].iloc[:, 1:].transpose().median(axis=1), color=\"#fb8f44\", lw=1.2, label=\"Median\" if i == 0 else None)\n",
    "    axs[i].set_title(f\"Class {int(c)}\", size=10)\n",
    "    axs[i].set(xlabel=\"Time\", ylabel=\"Value\")\n",
    "    axs[i].xaxis.set_tick_params(labelbottom=True)\n",
    "    axs[i].tick_params(axis=\"both\", which=\"major\", labelsize=7)\n",
    "    axs[i].tick_params(axis=\"both\", which=\"minor\", labelsize=7)\n",
    "fig.subplots_adjust(hspace=0.75)\n",
    "fig.suptitle(\"Training Dataset\")\n",
    "fig.legend()\n",
    "fig.tight_layout()\n",
    "fig.subplots_adjust(top=0.85)\n",
    "fig.show()"
   ]
  },
  {
   "cell_type": "markdown",
   "id": "b1986a14-e8e6-4d1d-bb5d-691c504bcaf2",
   "metadata": {},
   "source": [
    "Upload the training data to S3."
   ]
  },
  {
   "cell_type": "code",
   "execution_count": 9,
   "id": "08e16690-4fd2-4f72-a351-b9ff5337a570",
   "metadata": {},
   "outputs": [],
   "source": [
    "training_data = sagemaker_session.upload_string_as_file_body(\n",
    "    body=training_dataset.to_csv(index=False, header=False),\n",
    "    bucket=bucket,\n",
    "    key=\"ECG200_train.csv\"\n",
    ")"
   ]
  },
  {
   "cell_type": "code",
   "execution_count": 10,
   "id": "8e944ce2-c471-4ac0-996b-4ab90dd0a9d4",
   "metadata": {},
   "outputs": [
    {
     "data": {
      "text/plain": [
       "'s3://sagemaker-eu-west-1-661670223746/ECG200_train.csv'"
      ]
     },
     "execution_count": 10,
     "metadata": {},
     "output_type": "execute_result"
    }
   ],
   "source": [
    "training_data"
   ]
  },
  {
   "cell_type": "markdown",
   "id": "e96d4d72-bd13-400c-8e48-92e079709daf",
   "metadata": {
    "tags": []
   },
   "source": [
    "#### 2.2 Test dataset"
   ]
  },
  {
   "cell_type": "markdown",
   "id": "240cd33e-cd63-4311-8df4-deaa780265d1",
   "metadata": {},
   "source": [
    "Load the test data."
   ]
  },
  {
   "cell_type": "code",
   "execution_count": 11,
   "id": "a6512e9d-eeaf-4fd6-89aa-e88824686ece",
   "metadata": {
    "tags": []
   },
   "outputs": [],
   "source": [
    "test_dataset = pd.DataFrame(data=np.genfromtxt(\"ECG200_TEST.txt\"))"
   ]
  },
  {
   "cell_type": "code",
   "execution_count": 12,
   "id": "52245df6-98ed-447a-856e-7c33e4cc0eae",
   "metadata": {
    "tags": []
   },
   "outputs": [
    {
     "data": {
      "text/plain": [
       "(100, 97)"
      ]
     },
     "execution_count": 12,
     "metadata": {},
     "output_type": "execute_result"
    }
   ],
   "source": [
    "test_dataset.shape"
   ]
  },
  {
   "cell_type": "code",
   "execution_count": 13,
   "id": "8dc7283f-ab05-4b65-a161-4eba62047aab",
   "metadata": {
    "tags": []
   },
   "outputs": [
    {
     "data": {
      "text/html": [
       "<div>\n",
       "<style scoped>\n",
       "    .dataframe tbody tr th:only-of-type {\n",
       "        vertical-align: middle;\n",
       "    }\n",
       "\n",
       "    .dataframe tbody tr th {\n",
       "        vertical-align: top;\n",
       "    }\n",
       "\n",
       "    .dataframe thead th {\n",
       "        text-align: right;\n",
       "    }\n",
       "</style>\n",
       "<table border=\"1\" class=\"dataframe\">\n",
       "  <thead>\n",
       "    <tr style=\"text-align: right;\">\n",
       "      <th></th>\n",
       "      <th>0</th>\n",
       "      <th>1</th>\n",
       "      <th>2</th>\n",
       "      <th>3</th>\n",
       "      <th>4</th>\n",
       "      <th>5</th>\n",
       "      <th>6</th>\n",
       "      <th>7</th>\n",
       "      <th>8</th>\n",
       "      <th>9</th>\n",
       "      <th>...</th>\n",
       "      <th>87</th>\n",
       "      <th>88</th>\n",
       "      <th>89</th>\n",
       "      <th>90</th>\n",
       "      <th>91</th>\n",
       "      <th>92</th>\n",
       "      <th>93</th>\n",
       "      <th>94</th>\n",
       "      <th>95</th>\n",
       "      <th>96</th>\n",
       "    </tr>\n",
       "  </thead>\n",
       "  <tbody>\n",
       "    <tr>\n",
       "      <th>0</th>\n",
       "      <td>1.0</td>\n",
       "      <td>0.425189</td>\n",
       "      <td>1.418599</td>\n",
       "      <td>2.668791</td>\n",
       "      <td>3.298629</td>\n",
       "      <td>2.264554</td>\n",
       "      <td>0.165179</td>\n",
       "      <td>-0.959727</td>\n",
       "      <td>0.282668</td>\n",
       "      <td>0.842850</td>\n",
       "      <td>...</td>\n",
       "      <td>-0.018196</td>\n",
       "      <td>-0.220493</td>\n",
       "      <td>-0.152557</td>\n",
       "      <td>-0.117011</td>\n",
       "      <td>-0.145160</td>\n",
       "      <td>-0.116668</td>\n",
       "      <td>-0.199262</td>\n",
       "      <td>-0.109837</td>\n",
       "      <td>-0.142488</td>\n",
       "      <td>0.098758</td>\n",
       "    </tr>\n",
       "    <tr>\n",
       "      <th>1</th>\n",
       "      <td>1.0</td>\n",
       "      <td>0.653929</td>\n",
       "      <td>2.177290</td>\n",
       "      <td>3.644783</td>\n",
       "      <td>2.279203</td>\n",
       "      <td>0.978367</td>\n",
       "      <td>-0.388296</td>\n",
       "      <td>-0.911911</td>\n",
       "      <td>-0.148330</td>\n",
       "      <td>0.305439</td>\n",
       "      <td>...</td>\n",
       "      <td>0.099883</td>\n",
       "      <td>0.141395</td>\n",
       "      <td>-0.239092</td>\n",
       "      <td>0.247424</td>\n",
       "      <td>-0.085150</td>\n",
       "      <td>0.007800</td>\n",
       "      <td>0.407868</td>\n",
       "      <td>-0.194915</td>\n",
       "      <td>0.171107</td>\n",
       "      <td>0.197027</td>\n",
       "    </tr>\n",
       "    <tr>\n",
       "      <th>2</th>\n",
       "      <td>1.0</td>\n",
       "      <td>0.404953</td>\n",
       "      <td>0.553996</td>\n",
       "      <td>0.724097</td>\n",
       "      <td>1.449039</td>\n",
       "      <td>2.012616</td>\n",
       "      <td>1.624477</td>\n",
       "      <td>1.204726</td>\n",
       "      <td>1.117511</td>\n",
       "      <td>0.562099</td>\n",
       "      <td>...</td>\n",
       "      <td>1.297938</td>\n",
       "      <td>1.243332</td>\n",
       "      <td>1.463616</td>\n",
       "      <td>1.694916</td>\n",
       "      <td>1.456115</td>\n",
       "      <td>1.570372</td>\n",
       "      <td>1.934584</td>\n",
       "      <td>1.497556</td>\n",
       "      <td>0.812570</td>\n",
       "      <td>0.390639</td>\n",
       "    </tr>\n",
       "    <tr>\n",
       "      <th>3</th>\n",
       "      <td>1.0</td>\n",
       "      <td>1.088088</td>\n",
       "      <td>2.011949</td>\n",
       "      <td>2.301733</td>\n",
       "      <td>1.630199</td>\n",
       "      <td>0.636768</td>\n",
       "      <td>-0.140502</td>\n",
       "      <td>0.547954</td>\n",
       "      <td>1.075071</td>\n",
       "      <td>0.896861</td>\n",
       "      <td>...</td>\n",
       "      <td>0.125239</td>\n",
       "      <td>0.071349</td>\n",
       "      <td>0.138197</td>\n",
       "      <td>0.116399</td>\n",
       "      <td>0.131198</td>\n",
       "      <td>0.119412</td>\n",
       "      <td>0.082968</td>\n",
       "      <td>0.151348</td>\n",
       "      <td>0.273915</td>\n",
       "      <td>0.349405</td>\n",
       "    </tr>\n",
       "    <tr>\n",
       "      <th>4</th>\n",
       "      <td>-1.0</td>\n",
       "      <td>0.443621</td>\n",
       "      <td>0.947285</td>\n",
       "      <td>1.924084</td>\n",
       "      <td>2.159790</td>\n",
       "      <td>1.499447</td>\n",
       "      <td>0.964508</td>\n",
       "      <td>0.223256</td>\n",
       "      <td>-0.424946</td>\n",
       "      <td>0.121279</td>\n",
       "      <td>...</td>\n",
       "      <td>0.900511</td>\n",
       "      <td>1.278688</td>\n",
       "      <td>2.317878</td>\n",
       "      <td>2.916254</td>\n",
       "      <td>2.211947</td>\n",
       "      <td>2.034753</td>\n",
       "      <td>2.071302</td>\n",
       "      <td>1.254178</td>\n",
       "      <td>1.037879</td>\n",
       "      <td>1.009615</td>\n",
       "    </tr>\n",
       "  </tbody>\n",
       "</table>\n",
       "<p>5 rows × 97 columns</p>\n",
       "</div>"
      ],
      "text/plain": [
       "    0         1         2         3         4         5         6         7    \n",
       "0  1.0  0.425189  1.418599  2.668791  3.298629  2.264554  0.165179 -0.959727  \\\n",
       "1  1.0  0.653929  2.177290  3.644783  2.279203  0.978367 -0.388296 -0.911911   \n",
       "2  1.0  0.404953  0.553996  0.724097  1.449039  2.012616  1.624477  1.204726   \n",
       "3  1.0  1.088088  2.011949  2.301733  1.630199  0.636768 -0.140502  0.547954   \n",
       "4 -1.0  0.443621  0.947285  1.924084  2.159790  1.499447  0.964508  0.223256   \n",
       "\n",
       "         8         9   ...        87        88        89        90        91   \n",
       "0  0.282668  0.842850  ... -0.018196 -0.220493 -0.152557 -0.117011 -0.145160  \\\n",
       "1 -0.148330  0.305439  ...  0.099883  0.141395 -0.239092  0.247424 -0.085150   \n",
       "2  1.117511  0.562099  ...  1.297938  1.243332  1.463616  1.694916  1.456115   \n",
       "3  1.075071  0.896861  ...  0.125239  0.071349  0.138197  0.116399  0.131198   \n",
       "4 -0.424946  0.121279  ...  0.900511  1.278688  2.317878  2.916254  2.211947   \n",
       "\n",
       "         92        93        94        95        96  \n",
       "0 -0.116668 -0.199262 -0.109837 -0.142488  0.098758  \n",
       "1  0.007800  0.407868 -0.194915  0.171107  0.197027  \n",
       "2  1.570372  1.934584  1.497556  0.812570  0.390639  \n",
       "3  0.119412  0.082968  0.151348  0.273915  0.349405  \n",
       "4  2.034753  2.071302  1.254178  1.037879  1.009615  \n",
       "\n",
       "[5 rows x 97 columns]"
      ]
     },
     "execution_count": 13,
     "metadata": {},
     "output_type": "execute_result"
    }
   ],
   "source": [
    "test_dataset.head()"
   ]
  },
  {
   "cell_type": "code",
   "execution_count": 14,
   "id": "45d5c264-17c1-485f-97cb-15801b5e444b",
   "metadata": {
    "tags": []
   },
   "outputs": [
    {
     "data": {
      "text/plain": [
       "array([-1.,  1.])"
      ]
     },
     "execution_count": 14,
     "metadata": {},
     "output_type": "execute_result"
    }
   ],
   "source": [
    "test_dataset.iloc[:, 0].sort_values().unique()"
   ]
  },
  {
   "cell_type": "code",
   "execution_count": 15,
   "id": "43958169-55ab-43db-8047-26d411a2829f",
   "metadata": {
    "tags": []
   },
   "outputs": [
    {
     "data": {
      "text/plain": [
       "-1.0    36\n",
       " 1.0    64\n",
       "Name: count, dtype: int64"
      ]
     },
     "execution_count": 15,
     "metadata": {},
     "output_type": "execute_result"
    }
   ],
   "source": [
    "test_dataset.iloc[:, 0].rename(None).value_counts().sort_index()"
   ]
  },
  {
   "cell_type": "markdown",
   "id": "6c4d3948-0998-40c5-9a18-b1b2a1fe203a",
   "metadata": {},
   "source": [
    "Visualize the test data."
   ]
  },
  {
   "cell_type": "code",
   "execution_count": 16,
   "id": "a26d0050-e2d0-40d7-93b5-794415618567",
   "metadata": {
    "tags": []
   },
   "outputs": [
    {
     "data": {
      "image/png": "[encoded data removed]",
      "text/plain": [
       "<Figure size 600x500 with 2 Axes>"
      ]
     },
     "metadata": {},
     "output_type": "display_data"
    }
   ],
   "source": [
    "fig, axs = plt.subplots(nrows=test_dataset.iloc[:, 0].nunique(), ncols=1, sharex=True, figsize=(6, 5))\n",
    "for i, c in enumerate(test_dataset.iloc[:, 0].sort_values().unique()):\n",
    "    axs[i].plot(test_dataset[test_dataset.iloc[:, 0] == c].iloc[:, 1:].transpose(), color=\"#d0d7de\", lw=0.2)\n",
    "    axs[i].plot(test_dataset[test_dataset.iloc[:, 0] == c].iloc[:, 1:].transpose().median(axis=1), color=\"#fb8f44\", lw=1.2, label=\"Median\" if i == 0 else None)\n",
    "    axs[i].set_title(f\"Class {int(c)}\", size=10)\n",
    "    axs[i].set(xlabel=\"Time\", ylabel=\"Value\")\n",
    "    axs[i].xaxis.set_tick_params(labelbottom=True)\n",
    "    axs[i].tick_params(axis=\"both\", which=\"major\", labelsize=7)\n",
    "    axs[i].tick_params(axis=\"both\", which=\"minor\", labelsize=7)\n",
    "fig.subplots_adjust(hspace=0.75)\n",
    "fig.suptitle(\"Test Dataset\")\n",
    "fig.legend()\n",
    "fig.tight_layout()\n",
    "fig.subplots_adjust(top=0.85)\n",
    "fig.show()"
   ]
  },
  {
   "cell_type": "markdown",
   "id": "212f13bc-3287-4abf-a080-e8e2f9ca6473",
   "metadata": {},
   "source": [
    "Upload the test data to S3, make sure to remove the first column with the class labels."
   ]
  },
  {
   "cell_type": "code",
   "execution_count": 17,
   "id": "84216682-48f0-472f-b512-114d1573004b",
   "metadata": {
    "tags": []
   },
   "outputs": [],
   "source": [
    "test_data = sagemaker_session.upload_string_as_file_body(\n",
    "    body=test_dataset.iloc[:, 1:].to_csv(index=False, header=False),\n",
    "    bucket=bucket,\n",
    "    key=\"ECG200_test.csv\"\n",
    ")"
   ]
  },
  {
   "cell_type": "code",
   "execution_count": 18,
   "id": "05fc1730-41c4-428c-bfaa-008770164f48",
   "metadata": {},
   "outputs": [
    {
     "data": {
      "text/plain": [
       "'s3://sagemaker-eu-west-1-661670223746/ECG200_test.csv'"
      ]
     },
     "execution_count": 18,
     "metadata": {},
     "output_type": "execute_result"
    }
   ],
   "source": [
    "test_data"
   ]
  },
  {
   "cell_type": "markdown",
   "id": "390bf13f-04c8-43b6-b638-2265cafff639",
   "metadata": {
    "tags": []
   },
   "source": [
    "### 3. Training"
   ]
  },
  {
   "cell_type": "markdown",
   "id": "fa110134-5bfa-4c17-80c8-9ef3aa78024d",
   "metadata": {},
   "source": [
    "Fit the model to the training data."
   ]
  },
  {
   "cell_type": "code",
   "execution_count": 19,
   "id": "625a1bdb-c6be-4144-9ba1-5a1d97c2fb12",
   "metadata": {
    "tags": []
   },
   "outputs": [
    {
     "name": "stderr",
     "output_type": "stream",
     "text": [
      "INFO:sagemaker:Creating training-job with name: lstm-fcn-algo-v1-9-2023-08-05-14-59-24-318\n"
     ]
    },
    {
     "name": "stdout",
     "output_type": "stream",
     "text": [
      "2023-08-05 14:59:24 Starting - Starting the training job...\n",
      "2023-08-05 14:59:38 Starting - Preparing the instances for training......\n",
      "2023-08-05 15:00:26 Downloading - Downloading input data...\n",
      "2023-08-05 15:00:56 Training - Downloading the training image........................\n",
      "2023-08-05 15:05:22 Training - Training image download completed. Training in progress..\u001b[34mbash: cannot set terminal process group (-1): Inappropriate ioctl for device\u001b[0m\n",
      "\u001b[34mbash: no job control in this shell\u001b[0m\n",
      "\u001b[34m2023-08-05 15:05:30,715 sagemaker-training-toolkit INFO     Imported framework sagemaker_pytorch_container.training\u001b[0m\n",
      "\u001b[34m2023-08-05 15:05:30,716 sagemaker-training-toolkit INFO     No GPUs detected (normal if no gpus installed)\u001b[0m\n",
      "\u001b[34m2023-08-05 15:05:30,716 sagemaker-training-toolkit INFO     No Neurons detected (normal if no neurons installed)\u001b[0m\n",
      "\u001b[34m2023-08-05 15:05:30,725 sagemaker_pytorch_container.training INFO     Block until all host DNS lookups succeed.\u001b[0m\n",
      "\u001b[34m2023-08-05 15:05:30,731 sagemaker_pytorch_container.training INFO     Invoking user training script.\u001b[0m\n",
      "\u001b[34m2023-08-05 15:05:32,521 sagemaker-training-toolkit INFO     No GPUs detected (normal if no gpus installed)\u001b[0m\n",
      "\u001b[34m2023-08-05 15:05:32,522 sagemaker-training-toolkit INFO     No Neurons detected (normal if no neurons installed)\u001b[0m\n",
      "\u001b[34m2023-08-05 15:05:32,534 sagemaker-training-toolkit INFO     No GPUs detected (normal if no gpus installed)\u001b[0m\n",
      "\u001b[34m2023-08-05 15:05:32,534 sagemaker-training-toolkit INFO     No Neurons detected (normal if no neurons installed)\u001b[0m\n",
      "\u001b[34m2023-08-05 15:05:32,545 sagemaker-training-toolkit INFO     No GPUs detected (normal if no gpus installed)\u001b[0m\n",
      "\u001b[34m2023-08-05 15:05:32,546 sagemaker-training-toolkit INFO     No Neurons detected (normal if no neurons installed)\u001b[0m\n",
      "\u001b[34m2023-08-05 15:05:32,555 sagemaker-training-toolkit INFO     Invoking user script\u001b[0m\n",
      "\u001b[34mTraining Env:\u001b[0m\n",
      "\u001b[34m{\n",
      "    \"additional_framework_parameters\": {},\n",
      "    \"channel_input_dirs\": {\n",
      "        \"training\": \"/opt/ml/input/data/training\"\n",
      "    },\n",
      "    \"current_host\": \"algo-1\",\n",
      "    \"current_instance_group\": \"homogeneousCluster\",\n",
      "    \"current_instance_group_hosts\": [\n",
      "        \"algo-1\"\n",
      "    ],\n",
      "    \"current_instance_type\": \"ml.m5.xlarge\",\n",
      "    \"distribution_hosts\": [],\n",
      "    \"distribution_instance_groups\": [],\n",
      "    \"framework_module\": \"sagemaker_pytorch_container.training:main\",\n",
      "    \"hosts\": [\n",
      "        \"algo-1\"\n",
      "    ],\n",
      "    \"hyperparameters\": {\n",
      "        \"batch-size\": 8,\n",
      "        \"dropout\": 0.8,\n",
      "        \"epochs\": 200,\n",
      "        \"filters-1\": 128,\n",
      "        \"filters-2\": 256,\n",
      "        \"filters-3\": 128,\n",
      "        \"hidden-size\": 128,\n",
      "        \"kernel-size-1\": 8,\n",
      "        \"kernel-size-2\": 5,\n",
      "        \"kernel-size-3\": 3,\n",
      "        \"lr\": 0.001,\n",
      "        \"num-layers\": 1\n",
      "    },\n",
      "    \"input_config_dir\": \"/opt/ml/input/config\",\n",
      "    \"input_data_config\": {\n",
      "        \"training\": {\n",
      "            \"TrainingInputMode\": \"File\",\n",
      "            \"S3DistributionType\": \"FullyReplicated\",\n",
      "            \"RecordWrapperType\": \"None\"\n",
      "        }\n",
      "    },\n",
      "    \"input_dir\": \"/opt/ml/input\",\n",
      "    \"instance_groups\": [\n",
      "        \"homogeneousCluster\"\n",
      "    ],\n",
      "    \"instance_groups_dict\": {\n",
      "        \"homogeneousCluster\": {\n",
      "            \"instance_group_name\": \"homogeneousCluster\",\n",
      "            \"instance_type\": \"ml.m5.xlarge\",\n",
      "            \"hosts\": [\n",
      "                \"algo-1\"\n",
      "            ]\n",
      "        }\n",
      "    },\n",
      "    \"is_hetero\": false,\n",
      "    \"is_master\": true,\n",
      "    \"is_modelparallel_enabled\": null,\n",
      "    \"is_smddpmprun_installed\": true,\n",
      "    \"job_name\": \"lstm-fcn-algo-v1-9-2023-08-05-14-59-24-318\",\n",
      "    \"log_level\": 20,\n",
      "    \"master_hostname\": \"algo-1\",\n",
      "    \"model_dir\": \"/opt/ml/model\",\n",
      "    \"module_dir\": \"/opt/ml/code\",\n",
      "    \"module_name\": \"training\",\n",
      "    \"network_interface_name\": \"eth0\",\n",
      "    \"num_cpus\": 4,\n",
      "    \"num_gpus\": 0,\n",
      "    \"num_neurons\": 0,\n",
      "    \"output_data_dir\": \"/opt/ml/output/data\",\n",
      "    \"output_dir\": \"/opt/ml/output\",\n",
      "    \"output_intermediate_dir\": \"/opt/ml/output/intermediate\",\n",
      "    \"resource_config\": {\n",
      "        \"current_host\": \"algo-1\",\n",
      "        \"current_instance_type\": \"ml.m5.xlarge\",\n",
      "        \"current_group_name\": \"homogeneousCluster\",\n",
      "        \"hosts\": [\n",
      "            \"algo-1\"\n",
      "        ],\n",
      "        \"instance_groups\": [\n",
      "            {\n",
      "                \"instance_group_name\": \"homogeneousCluster\",\n",
      "                \"instance_type\": \"ml.m5.xlarge\",\n",
      "                \"hosts\": [\n",
      "                    \"algo-1\"\n",
      "                ]\n",
      "            }\n",
      "        ],\n",
      "        \"network_interface_name\": \"eth0\"\n",
      "    },\n",
      "    \"user_entry_point\": \"training.py\"\u001b[0m\n",
      "\u001b[34m}\u001b[0m\n",
      "\u001b[34mEnvironment variables:\u001b[0m\n",
      "\u001b[34mSM_HOSTS=[\"algo-1\"]\u001b[0m\n",
      "\u001b[34mSM_NETWORK_INTERFACE_NAME=eth0\u001b[0m\n",
      "\u001b[34mSM_HPS={\"batch-size\":8,\"dropout\":0.8,\"epochs\":200,\"filters-1\":128,\"filters-2\":256,\"filters-3\":128,\"hidden-size\":128,\"kernel-size-1\":8,\"kernel-size-2\":5,\"kernel-size-3\":3,\"lr\":0.001,\"num-layers\":1}\u001b[0m\n",
      "\u001b[34mSM_USER_ENTRY_POINT=training.py\u001b[0m\n",
      "\u001b[34mSM_FRAMEWORK_PARAMS={}\u001b[0m\n",
      "\u001b[34mSM_RESOURCE_CONFIG={\"current_group_name\":\"homogeneousCluster\",\"current_host\":\"algo-1\",\"current_instance_type\":\"ml.m5.xlarge\",\"hosts\":[\"algo-1\"],\"instance_groups\":[{\"hosts\":[\"algo-1\"],\"instance_group_name\":\"homogeneousCluster\",\"instance_type\":\"ml.m5.xlarge\"}],\"network_interface_name\":\"eth0\"}\u001b[0m\n",
      "\u001b[34mSM_INPUT_DATA_CONFIG={\"training\":{\"RecordWrapperType\":\"None\",\"S3DistributionType\":\"FullyReplicated\",\"TrainingInputMode\":\"File\"}}\u001b[0m\n",
      "\u001b[34mSM_OUTPUT_DATA_DIR=/opt/ml/output/data\u001b[0m\n",
      "\u001b[34mSM_CHANNELS=[\"training\"]\u001b[0m\n",
      "\u001b[34mSM_CURRENT_HOST=algo-1\u001b[0m\n",
      "\u001b[34mSM_CURRENT_INSTANCE_TYPE=ml.m5.xlarge\u001b[0m\n",
      "\u001b[34mSM_CURRENT_INSTANCE_GROUP=homogeneousCluster\u001b[0m\n",
      "\u001b[34mSM_CURRENT_INSTANCE_GROUP_HOSTS=[\"algo-1\"]\u001b[0m\n",
      "\u001b[34mSM_INSTANCE_GROUPS=[\"homogeneousCluster\"]\u001b[0m\n",
      "\u001b[34mSM_INSTANCE_GROUPS_DICT={\"homogeneousCluster\":{\"hosts\":[\"algo-1\"],\"instance_group_name\":\"homogeneousCluster\",\"instance_type\":\"ml.m5.xlarge\"}}\u001b[0m\n",
      "\u001b[34mSM_DISTRIBUTION_INSTANCE_GROUPS=[]\u001b[0m\n",
      "\u001b[34mSM_IS_HETERO=false\u001b[0m\n",
      "\u001b[34mSM_MODULE_NAME=training\u001b[0m\n",
      "\u001b[34mSM_LOG_LEVEL=20\u001b[0m\n",
      "\u001b[34mSM_FRAMEWORK_MODULE=sagemaker_pytorch_container.training:main\u001b[0m\n",
      "\u001b[34mSM_INPUT_DIR=/opt/ml/input\u001b[0m\n",
      "\u001b[34mSM_INPUT_CONFIG_DIR=/opt/ml/input/config\u001b[0m\n",
      "\u001b[34mSM_OUTPUT_DIR=/opt/ml/output\u001b[0m\n",
      "\u001b[34mSM_NUM_CPUS=4\u001b[0m\n",
      "\u001b[34mSM_NUM_GPUS=0\u001b[0m\n",
      "\u001b[34mSM_NUM_NEURONS=0\u001b[0m\n",
      "\u001b[34mSM_MODEL_DIR=/opt/ml/model\u001b[0m\n",
      "\u001b[34mSM_MODULE_DIR=/opt/ml/code\u001b[0m\n",
      "\u001b[34mSM_TRAINING_ENV={\"additional_framework_parameters\":{},\"channel_input_dirs\":{\"training\":\"/opt/ml/input/data/training\"},\"current_host\":\"algo-1\",\"current_instance_group\":\"homogeneousCluster\",\"current_instance_group_hosts\":[\"algo-1\"],\"current_instance_type\":\"ml.m5.xlarge\",\"distribution_hosts\":[],\"distribution_instance_groups\":[],\"framework_module\":\"sagemaker_pytorch_container.training:main\",\"hosts\":[\"algo-1\"],\"hyperparameters\":{\"batch-size\":8,\"dropout\":0.8,\"epochs\":200,\"filters-1\":128,\"filters-2\":256,\"filters-3\":128,\"hidden-size\":128,\"kernel-size-1\":8,\"kernel-size-2\":5,\"kernel-size-3\":3,\"lr\":0.001,\"num-layers\":1},\"input_config_dir\":\"/opt/ml/input/config\",\"input_data_config\":{\"training\":{\"RecordWrapperType\":\"None\",\"S3DistributionType\":\"FullyReplicated\",\"TrainingInputMode\":\"File\"}},\"input_dir\":\"/opt/ml/input\",\"instance_groups\":[\"homogeneousCluster\"],\"instance_groups_dict\":{\"homogeneousCluster\":{\"hosts\":[\"algo-1\"],\"instance_group_name\":\"homogeneousCluster\",\"instance_type\":\"ml.m5.xlarge\"}},\"is_hetero\":false,\"is_master\":true,\"is_modelparallel_enabled\":null,\"is_smddpmprun_installed\":true,\"job_name\":\"lstm-fcn-algo-v1-9-2023-08-05-14-59-24-318\",\"log_level\":20,\"master_hostname\":\"algo-1\",\"model_dir\":\"/opt/ml/model\",\"module_dir\":\"/opt/ml/code\",\"module_name\":\"training\",\"network_interface_name\":\"eth0\",\"num_cpus\":4,\"num_gpus\":0,\"num_neurons\":0,\"output_data_dir\":\"/opt/ml/output/data\",\"output_dir\":\"/opt/ml/output\",\"output_intermediate_dir\":\"/opt/ml/output/intermediate\",\"resource_config\":{\"current_group_name\":\"homogeneousCluster\",\"current_host\":\"algo-1\",\"current_instance_type\":\"ml.m5.xlarge\",\"hosts\":[\"algo-1\"],\"instance_groups\":[{\"hosts\":[\"algo-1\"],\"instance_group_name\":\"homogeneousCluster\",\"instance_type\":\"ml.m5.xlarge\"}],\"network_interface_name\":\"eth0\"},\"user_entry_point\":\"training.py\"}\u001b[0m\n",
      "\u001b[34mSM_USER_ARGS=[\"--batch-size\",\"8\",\"--dropout\",\"0.8\",\"--epochs\",\"200\",\"--filters-1\",\"128\",\"--filters-2\",\"256\",\"--filters-3\",\"128\",\"--hidden-size\",\"128\",\"--kernel-size-1\",\"8\",\"--kernel-size-2\",\"5\",\"--kernel-size-3\",\"3\",\"--lr\",\"0.001\",\"--num-layers\",\"1\"]\u001b[0m\n",
      "\u001b[34mSM_OUTPUT_INTERMEDIATE_DIR=/opt/ml/output/intermediate\u001b[0m\n",
      "\u001b[34mSM_CHANNEL_TRAINING=/opt/ml/input/data/training\u001b[0m\n",
      "\u001b[34mSM_HP_BATCH-SIZE=8\u001b[0m\n",
      "\u001b[34mSM_HP_DROPOUT=0.8\u001b[0m\n",
      "\u001b[34mSM_HP_EPOCHS=200\u001b[0m\n",
      "\u001b[34mSM_HP_FILTERS-1=128\u001b[0m\n",
      "\u001b[34mSM_HP_FILTERS-2=256\u001b[0m\n",
      "\u001b[34mSM_HP_FILTERS-3=128\u001b[0m\n",
      "\u001b[34mSM_HP_HIDDEN-SIZE=128\u001b[0m\n",
      "\u001b[34mSM_HP_KERNEL-SIZE-1=8\u001b[0m\n",
      "\u001b[34mSM_HP_KERNEL-SIZE-2=5\u001b[0m\n",
      "\u001b[34mSM_HP_KERNEL-SIZE-3=3\u001b[0m\n",
      "\u001b[34mSM_HP_LR=0.001\u001b[0m\n",
      "\u001b[34mSM_HP_NUM-LAYERS=1\u001b[0m\n",
      "\u001b[34mPYTHONPATH=/opt/ml/code:/opt/conda/bin:/opt/conda/lib/python310.zip:/opt/conda/lib/python3.10:/opt/conda/lib/python3.10/lib-dynload:/opt/conda/lib/python3.10/site-packages\u001b[0m\n",
      "\u001b[34mInvoking script with the following command:\u001b[0m\n",
      "\u001b[34m/opt/conda/bin/python3.10 training.py --batch-size 8 --dropout 0.8 --epochs 200 --filters-1 128 --filters-2 256 --filters-3 128 --hidden-size 128 --kernel-size-1 8 --kernel-size-2 5 --kernel-size-3 3 --lr 0.001 --num-layers 1\u001b[0m\n",
      "\u001b[34m2023-08-05 15:05:32,607 sagemaker-training-toolkit INFO     Exceptions not imported for SageMaker TF as Tensorflow is not installed.\u001b[0m\n",
      "\u001b[34m--------------------------------------\u001b[0m\n",
      "\u001b[34mTraining on 100 time series.\u001b[0m\n",
      "\u001b[34mTime series length: 96\u001b[0m\n",
      "\u001b[34mTime series labels: [-1, 1]\u001b[0m\n",
      "\u001b[34m--------------------------------------\u001b[0m\n",
      "\u001b[34m--------------------------------------\u001b[0m\n",
      "\u001b[34mTraining the model.\u001b[0m\n",
      "\u001b[34m--------------------------------------\u001b[0m\n",
      "\u001b[34mEpoch: 1, Training Loss: 0.10927303, Training Accuracy: 0.65000000\u001b[0m\n",
      "\u001b[34mEpoch: 2, Training Loss: 0.07871176, Training Accuracy: 0.79000000\u001b[0m\n",
      "\u001b[34mEpoch: 3, Training Loss: 0.04604606, Training Accuracy: 0.84000000\u001b[0m\n",
      "\u001b[34mEpoch: 4, Training Loss: 0.04044138, Training Accuracy: 0.85000000\u001b[0m\n",
      "\u001b[34mEpoch: 5, Training Loss: 0.04753559, Training Accuracy: 0.83000000\u001b[0m\n",
      "\u001b[34mEpoch: 6, Training Loss: 0.05061282, Training Accuracy: 0.85000000\u001b[0m\n",
      "\u001b[34mEpoch: 7, Training Loss: 0.03285609, Training Accuracy: 0.91000000\u001b[0m\n",
      "\u001b[34mEpoch: 8, Training Loss: 0.03616790, Training Accuracy: 0.86000000\u001b[0m\n",
      "\u001b[34mEpoch: 9, Training Loss: 0.03309485, Training Accuracy: 0.89000000\u001b[0m\n",
      "\u001b[34mEpoch: 10, Training Loss: 0.02554688, Training Accuracy: 0.91000000\u001b[0m\n",
      "\u001b[34mEpoch: 11, Training Loss: 0.02597972, Training Accuracy: 0.91000000\u001b[0m\n",
      "\u001b[34mEpoch: 12, Training Loss: 0.02544129, Training Accuracy: 0.91000000\u001b[0m\n",
      "\u001b[34mEpoch: 13, Training Loss: 0.02076325, Training Accuracy: 0.94000000\u001b[0m\n",
      "\u001b[34mEpoch: 14, Training Loss: 0.02010278, Training Accuracy: 0.93000000\u001b[0m\n",
      "\u001b[34mEpoch: 15, Training Loss: 0.02050286, Training Accuracy: 0.94000000\u001b[0m\n",
      "\u001b[34mEpoch: 16, Training Loss: 0.02226532, Training Accuracy: 0.93000000\u001b[0m\n",
      "\u001b[34mEpoch: 17, Training Loss: 0.01731612, Training Accuracy: 0.95000000\u001b[0m\n",
      "\u001b[34mEpoch: 18, Training Loss: 0.02138712, Training Accuracy: 0.93000000\u001b[0m\n",
      "\u001b[34mEpoch: 19, Training Loss: 0.03483275, Training Accuracy: 0.88000000\u001b[0m\n",
      "\u001b[34mEpoch: 20, Training Loss: 0.01785014, Training Accuracy: 0.93000000\u001b[0m\n",
      "\u001b[34mEpoch: 21, Training Loss: 0.01489976, Training Accuracy: 0.96000000\u001b[0m\n",
      "\u001b[34mEpoch: 22, Training Loss: 0.01982003, Training Accuracy: 0.93000000\u001b[0m\n",
      "\u001b[34mEpoch: 23, Training Loss: 0.01408840, Training Accuracy: 0.96000000\u001b[0m\n",
      "\u001b[34mEpoch: 24, Training Loss: 0.01741231, Training Accuracy: 0.93000000\u001b[0m\n",
      "\u001b[34mEpoch: 25, Training Loss: 0.00889752, Training Accuracy: 1.00000000\u001b[0m\n",
      "\u001b[34mEpoch: 26, Training Loss: 0.01007857, Training Accuracy: 0.99000000\u001b[0m\n",
      "\u001b[34mEpoch: 27, Training Loss: 0.01214889, Training Accuracy: 0.95000000\u001b[0m\n",
      "\u001b[34mEpoch: 28, Training Loss: 0.00863498, Training Accuracy: 0.99000000\u001b[0m\n",
      "\u001b[34mEpoch: 29, Training Loss: 0.01566035, Training Accuracy: 0.95000000\u001b[0m\n",
      "\u001b[34mEpoch: 30, Training Loss: 0.00813910, Training Accuracy: 0.99000000\u001b[0m\n",
      "\u001b[34mEpoch: 31, Training Loss: 0.01249428, Training Accuracy: 0.95000000\u001b[0m\n",
      "\u001b[34mEpoch: 32, Training Loss: 0.00791122, Training Accuracy: 0.98000000\u001b[0m\n",
      "\u001b[34mEpoch: 33, Training Loss: 0.00736425, Training Accuracy: 1.00000000\u001b[0m\n",
      "\u001b[34mEpoch: 34, Training Loss: 0.00616256, Training Accuracy: 1.00000000\u001b[0m\n",
      "\u001b[34mEpoch: 35, Training Loss: 0.00733237, Training Accuracy: 0.97000000\u001b[0m\n",
      "\u001b[34mEpoch: 36, Training Loss: 0.00418885, Training Accuracy: 1.00000000\u001b[0m\n",
      "\u001b[34mEpoch: 37, Training Loss: 0.00359032, Training Accuracy: 1.00000000\u001b[0m\n",
      "\u001b[34mEpoch: 38, Training Loss: 0.00514990, Training Accuracy: 1.00000000\u001b[0m\n",
      "\u001b[34mEpoch: 39, Training Loss: 0.00553514, Training Accuracy: 1.00000000\u001b[0m\n",
      "\u001b[34mEpoch: 40, Training Loss: 0.00696737, Training Accuracy: 0.99000000\u001b[0m\n",
      "\u001b[34mEpoch: 41, Training Loss: 0.00551756, Training Accuracy: 0.99000000\u001b[0m\n",
      "\u001b[34mEpoch: 42, Training Loss: 0.00651421, Training Accuracy: 0.98000000\u001b[0m\n",
      "\u001b[34mEpoch: 43, Training Loss: 0.00513718, Training Accuracy: 0.99000000\u001b[0m\n",
      "\u001b[34mEpoch: 44, Training Loss: 0.00271077, Training Accuracy: 1.00000000\u001b[0m\n",
      "\u001b[34mEpoch: 45, Training Loss: 0.00464748, Training Accuracy: 1.00000000\u001b[0m\n",
      "\u001b[34mEpoch: 46, Training Loss: 0.00414013, Training Accuracy: 1.00000000\u001b[0m\n",
      "\u001b[34mEpoch: 47, Training Loss: 0.00191105, Training Accuracy: 1.00000000\u001b[0m\n",
      "\u001b[34mEpoch: 48, Training Loss: 0.00179590, Training Accuracy: 1.00000000\u001b[0m\n",
      "\u001b[34mEpoch: 49, Training Loss: 0.00144754, Training Accuracy: 1.00000000\u001b[0m\n",
      "\u001b[34mEpoch: 50, Training Loss: 0.00233553, Training Accuracy: 1.00000000\u001b[0m\n",
      "\u001b[34mEpoch: 51, Training Loss: 0.00158381, Training Accuracy: 1.00000000\u001b[0m\n",
      "\u001b[34mEpoch: 52, Training Loss: 0.00212235, Training Accuracy: 1.00000000\u001b[0m\n",
      "\u001b[34mEpoch: 53, Training Loss: 0.00125030, Training Accuracy: 1.00000000\u001b[0m\n",
      "\u001b[34mEpoch: 54, Training Loss: 0.00244126, Training Accuracy: 1.00000000\u001b[0m\n",
      "\u001b[34mEpoch: 55, Training Loss: 0.00109659, Training Accuracy: 1.00000000\u001b[0m\n",
      "\u001b[34mEpoch: 56, Training Loss: 0.00146773, Training Accuracy: 1.00000000\u001b[0m\n",
      "\u001b[34mEpoch: 57, Training Loss: 0.00188709, Training Accuracy: 1.00000000\u001b[0m\n",
      "\u001b[34mEpoch: 58, Training Loss: 0.00097145, Training Accuracy: 1.00000000\u001b[0m\n",
      "\u001b[34mEpoch: 59, Training Loss: 0.00171890, Training Accuracy: 1.00000000\u001b[0m\n",
      "\u001b[34mEpoch: 60, Training Loss: 0.00169955, Training Accuracy: 1.00000000\u001b[0m\n",
      "\u001b[34mEpoch: 61, Training Loss: 0.00159794, Training Accuracy: 1.00000000\u001b[0m\n",
      "\u001b[34mEpoch: 62, Training Loss: 0.00087120, Training Accuracy: 1.00000000\u001b[0m\n",
      "\u001b[34mEpoch: 63, Training Loss: 0.00075009, Training Accuracy: 1.00000000\u001b[0m\n",
      "\u001b[34mEpoch: 64, Training Loss: 0.00082309, Training Accuracy: 1.00000000\u001b[0m\n",
      "\u001b[34mEpoch: 65, Training Loss: 0.00087508, Training Accuracy: 1.00000000\u001b[0m\n",
      "\u001b[34mEpoch: 66, Training Loss: 0.00089655, Training Accuracy: 1.00000000\u001b[0m\n",
      "\u001b[34mEpoch: 67, Training Loss: 0.00184161, Training Accuracy: 1.00000000\u001b[0m\n",
      "\u001b[34mEpoch: 68, Training Loss: 0.00095187, Training Accuracy: 1.00000000\u001b[0m\n",
      "\u001b[34mEpoch: 69, Training Loss: 0.00187049, Training Accuracy: 1.00000000\u001b[0m\n",
      "\u001b[34mEpoch: 70, Training Loss: 0.00356017, Training Accuracy: 1.00000000\u001b[0m\n",
      "\u001b[34mEpoch: 71, Training Loss: 0.00444585, Training Accuracy: 0.99000000\u001b[0m\n",
      "\u001b[34mEpoch: 72, Training Loss: 0.00298146, Training Accuracy: 1.00000000\u001b[0m\n",
      "\u001b[34mEpoch: 73, Training Loss: 0.00100158, Training Accuracy: 1.00000000\u001b[0m\n",
      "\u001b[34mEpoch: 74, Training Loss: 0.00142573, Training Accuracy: 1.00000000\u001b[0m\n",
      "\u001b[34mEpoch: 75, Training Loss: 0.00088732, Training Accuracy: 1.00000000\u001b[0m\n",
      "\u001b[34mEpoch: 76, Training Loss: 0.00050000, Training Accuracy: 1.00000000\u001b[0m\n",
      "\u001b[34mEpoch: 77, Training Loss: 0.00049913, Training Accuracy: 1.00000000\u001b[0m\n",
      "\u001b[34mEpoch: 78, Training Loss: 0.00122163, Training Accuracy: 1.00000000\u001b[0m\n",
      "\u001b[34mEpoch: 79, Training Loss: 0.00066586, Training Accuracy: 1.00000000\u001b[0m\n",
      "\u001b[34mEpoch: 80, Training Loss: 0.00065724, Training Accuracy: 1.00000000\u001b[0m\n",
      "\u001b[34mEpoch: 81, Training Loss: 0.00058071, Training Accuracy: 1.00000000\u001b[0m\n",
      "\u001b[34mEpoch: 82, Training Loss: 0.00025934, Training Accuracy: 1.00000000\u001b[0m\n",
      "\u001b[34mEpoch: 83, Training Loss: 0.00045311, Training Accuracy: 1.00000000\u001b[0m\n",
      "\u001b[34mEpoch: 84, Training Loss: 0.00025755, Training Accuracy: 1.00000000\u001b[0m\n",
      "\u001b[34mEpoch: 85, Training Loss: 0.00085172, Training Accuracy: 1.00000000\u001b[0m\n",
      "\u001b[34mEpoch: 86, Training Loss: 0.00026165, Training Accuracy: 1.00000000\u001b[0m\n",
      "\u001b[34mEpoch: 87, Training Loss: 0.00022336, Training Accuracy: 1.00000000\u001b[0m\n",
      "\u001b[34mEpoch: 88, Training Loss: 0.00057511, Training Accuracy: 1.00000000\u001b[0m\n",
      "\u001b[34mEpoch: 89, Training Loss: 0.00040854, Training Accuracy: 1.00000000\u001b[0m\n",
      "\u001b[34mEpoch: 90, Training Loss: 0.00030342, Training Accuracy: 1.00000000\u001b[0m\n",
      "\u001b[34mEpoch: 91, Training Loss: 0.00032983, Training Accuracy: 1.00000000\u001b[0m\n",
      "\u001b[34mEpoch: 92, Training Loss: 0.00027276, Training Accuracy: 1.00000000\u001b[0m\n",
      "\u001b[34mEpoch: 93, Training Loss: 0.00025967, Training Accuracy: 1.00000000\u001b[0m\n",
      "\u001b[34mEpoch: 94, Training Loss: 0.00017131, Training Accuracy: 1.00000000\u001b[0m\n",
      "\u001b[34mEpoch: 95, Training Loss: 0.00013579, Training Accuracy: 1.00000000\u001b[0m\n",
      "\u001b[34mEpoch: 96, Training Loss: 0.00016156, Training Accuracy: 1.00000000\u001b[0m\n",
      "\u001b[34mEpoch: 97, Training Loss: 0.00013439, Training Accuracy: 1.00000000\u001b[0m\n",
      "\u001b[34mEpoch: 98, Training Loss: 0.00020247, Training Accuracy: 1.00000000\u001b[0m\n",
      "\u001b[34mEpoch: 99, Training Loss: 0.00010859, Training Accuracy: 1.00000000\u001b[0m\n",
      "\u001b[34mEpoch: 100, Training Loss: 0.00179111, Training Accuracy: 1.00000000\u001b[0m\n",
      "\u001b[34mEpoch: 101, Training Loss: 0.00032740, Training Accuracy: 1.00000000\u001b[0m\n",
      "\u001b[34mEpoch: 102, Training Loss: 0.00009592, Training Accuracy: 1.00000000\u001b[0m\n",
      "\u001b[34mEpoch: 103, Training Loss: 0.00010732, Training Accuracy: 1.00000000\u001b[0m\n",
      "\u001b[34mEpoch: 104, Training Loss: 0.00006038, Training Accuracy: 1.00000000\u001b[0m\n",
      "\u001b[34mEpoch: 105, Training Loss: 0.00013836, Training Accuracy: 1.00000000\u001b[0m\n",
      "\u001b[34mEpoch: 106, Training Loss: 0.00016566, Training Accuracy: 1.00000000\u001b[0m\n",
      "\u001b[34mEpoch: 107, Training Loss: 0.00139543, Training Accuracy: 1.00000000\u001b[0m\n",
      "\u001b[34mEpoch: 108, Training Loss: 0.00052031, Training Accuracy: 1.00000000\u001b[0m\n",
      "\u001b[34mEpoch: 109, Training Loss: 0.00072426, Training Accuracy: 1.00000000\u001b[0m\n",
      "\u001b[34mEpoch: 110, Training Loss: 0.00136434, Training Accuracy: 1.00000000\u001b[0m\n",
      "\u001b[34mEpoch: 111, Training Loss: 0.00026776, Training Accuracy: 1.00000000\u001b[0m\n",
      "\u001b[34mEpoch: 112, Training Loss: 0.00072430, Training Accuracy: 1.00000000\u001b[0m\n",
      "\u001b[34mEpoch: 113, Training Loss: 0.00096850, Training Accuracy: 1.00000000\u001b[0m\n",
      "\u001b[34mEpoch: 114, Training Loss: 0.00111125, Training Accuracy: 1.00000000\u001b[0m\n",
      "\u001b[34mEpoch: 115, Training Loss: 0.00026988, Training Accuracy: 1.00000000\u001b[0m\n",
      "\u001b[34mEpoch: 116, Training Loss: 0.00193916, Training Accuracy: 1.00000000\u001b[0m\n",
      "\u001b[34mEpoch: 117, Training Loss: 0.00200621, Training Accuracy: 1.00000000\u001b[0m\n",
      "\u001b[34mEpoch: 118, Training Loss: 0.00112558, Training Accuracy: 1.00000000\u001b[0m\n",
      "\u001b[34mEpoch: 119, Training Loss: 0.00412979, Training Accuracy: 0.98000000\u001b[0m\n",
      "\u001b[34mEpoch: 120, Training Loss: 0.00134754, Training Accuracy: 1.00000000\u001b[0m\n",
      "\u001b[34mEpoch: 121, Training Loss: 0.00096402, Training Accuracy: 1.00000000\u001b[0m\n",
      "\u001b[34mEpoch: 122, Training Loss: 0.00065851, Training Accuracy: 1.00000000\u001b[0m\n",
      "\u001b[34mEpoch: 123, Training Loss: 0.00045334, Training Accuracy: 1.00000000\u001b[0m\n",
      "\u001b[34mEpoch: 124, Training Loss: 0.00032811, Training Accuracy: 1.00000000\u001b[0m\n",
      "\u001b[34mEpoch: 125, Training Loss: 0.00041811, Training Accuracy: 1.00000000\u001b[0m\n",
      "\u001b[34mEpoch: 126, Training Loss: 0.00032032, Training Accuracy: 1.00000000\u001b[0m\n",
      "\u001b[34mEpoch: 127, Training Loss: 0.00105407, Training Accuracy: 1.00000000\u001b[0m\n",
      "\u001b[34mEpoch: 128, Training Loss: 0.00025438, Training Accuracy: 1.00000000\u001b[0m\n",
      "\u001b[34mEpoch: 129, Training Loss: 0.00026481, Training Accuracy: 1.00000000\u001b[0m\n",
      "\u001b[34mEpoch: 130, Training Loss: 0.00012146, Training Accuracy: 1.00000000\u001b[0m\n",
      "\u001b[34mEpoch: 131, Training Loss: 0.00021018, Training Accuracy: 1.00000000\u001b[0m\n",
      "\u001b[34mEpoch: 132, Training Loss: 0.00011439, Training Accuracy: 1.00000000\u001b[0m\n",
      "\u001b[34mEpoch: 133, Training Loss: 0.00008989, Training Accuracy: 1.00000000\u001b[0m\n",
      "\u001b[34mEpoch: 134, Training Loss: 0.00048147, Training Accuracy: 1.00000000\u001b[0m\n",
      "\u001b[34mEpoch: 135, Training Loss: 0.00050292, Training Accuracy: 1.00000000\u001b[0m\n",
      "\u001b[34mEpoch: 136, Training Loss: 0.00017031, Training Accuracy: 1.00000000\u001b[0m\n",
      "\u001b[34mEpoch: 137, Training Loss: 0.00018198, Training Accuracy: 1.00000000\u001b[0m\n",
      "\u001b[34mEpoch: 138, Training Loss: 0.00009093, Training Accuracy: 1.00000000\u001b[0m\n",
      "\u001b[34mEpoch: 139, Training Loss: 0.00006704, Training Accuracy: 1.00000000\u001b[0m\n",
      "\u001b[34mEpoch: 140, Training Loss: 0.00007530, Training Accuracy: 1.00000000\u001b[0m\n",
      "\u001b[34mEpoch: 141, Training Loss: 0.00105459, Training Accuracy: 1.00000000\u001b[0m\n",
      "\u001b[34mEpoch: 142, Training Loss: 0.00027708, Training Accuracy: 1.00000000\u001b[0m\n",
      "\u001b[34mEpoch: 143, Training Loss: 0.00105628, Training Accuracy: 1.00000000\u001b[0m\n",
      "\u001b[34mEpoch: 144, Training Loss: 0.00068838, Training Accuracy: 1.00000000\u001b[0m\n",
      "\u001b[34mEpoch: 145, Training Loss: 0.00028785, Training Accuracy: 1.00000000\u001b[0m\n",
      "\u001b[34mEpoch: 146, Training Loss: 0.00119045, Training Accuracy: 1.00000000\u001b[0m\n",
      "\u001b[34mEpoch: 147, Training Loss: 0.00021545, Training Accuracy: 1.00000000\u001b[0m\n",
      "\u001b[34mEpoch: 148, Training Loss: 0.00022676, Training Accuracy: 1.00000000\u001b[0m\n",
      "\u001b[34mEpoch: 149, Training Loss: 0.00025736, Training Accuracy: 1.00000000\u001b[0m\n",
      "\u001b[34mEpoch: 150, Training Loss: 0.00012120, Training Accuracy: 1.00000000\u001b[0m\n",
      "\u001b[34mEpoch: 151, Training Loss: 0.00035571, Training Accuracy: 1.00000000\u001b[0m\n",
      "\u001b[34mEpoch: 152, Training Loss: 0.00094880, Training Accuracy: 1.00000000\u001b[0m\n",
      "\u001b[34mEpoch: 153, Training Loss: 0.00066373, Training Accuracy: 1.00000000\u001b[0m\n",
      "\u001b[34mEpoch: 154, Training Loss: 0.00015771, Training Accuracy: 1.00000000\u001b[0m\n",
      "\u001b[34mEpoch: 155, Training Loss: 0.00007104, Training Accuracy: 1.00000000\u001b[0m\n",
      "\u001b[34mEpoch: 156, Training Loss: 0.00010093, Training Accuracy: 1.00000000\u001b[0m\n",
      "\u001b[34mEpoch: 157, Training Loss: 0.00008184, Training Accuracy: 1.00000000\u001b[0m\n",
      "\u001b[34mEpoch: 158, Training Loss: 0.00004877, Training Accuracy: 1.00000000\u001b[0m\n",
      "\u001b[34mEpoch: 159, Training Loss: 0.00010840, Training Accuracy: 1.00000000\u001b[0m\n",
      "\u001b[34mEpoch: 160, Training Loss: 0.00010120, Training Accuracy: 1.00000000\u001b[0m\n",
      "\u001b[34mEpoch: 161, Training Loss: 0.00005215, Training Accuracy: 1.00000000\u001b[0m\n",
      "\u001b[34mEpoch: 162, Training Loss: 0.00009283, Training Accuracy: 1.00000000\u001b[0m\n",
      "\u001b[34mEpoch: 163, Training Loss: 0.00014861, Training Accuracy: 1.00000000\u001b[0m\n",
      "\u001b[34mEpoch: 164, Training Loss: 0.00017590, Training Accuracy: 1.00000000\u001b[0m\n",
      "\u001b[34mEpoch: 165, Training Loss: 0.00008545, Training Accuracy: 1.00000000\u001b[0m\n",
      "\u001b[34mEpoch: 166, Training Loss: 0.00003947, Training Accuracy: 1.00000000\u001b[0m\n",
      "\u001b[34mEpoch: 167, Training Loss: 0.00004420, Training Accuracy: 1.00000000\u001b[0m\n",
      "\u001b[34mEpoch: 168, Training Loss: 0.00023159, Training Accuracy: 1.00000000\u001b[0m\n",
      "\u001b[34mEpoch: 169, Training Loss: 0.00004034, Training Accuracy: 1.00000000\u001b[0m\n",
      "\u001b[34mEpoch: 170, Training Loss: 0.00004377, Training Accuracy: 1.00000000\u001b[0m\n",
      "\u001b[34mEpoch: 171, Training Loss: 0.00003483, Training Accuracy: 1.00000000\u001b[0m\n",
      "\u001b[34mEpoch: 172, Training Loss: 0.00012639, Training Accuracy: 1.00000000\u001b[0m\n",
      "\u001b[34mEpoch: 173, Training Loss: 0.00003015, Training Accuracy: 1.00000000\u001b[0m\n",
      "\u001b[34mEpoch: 174, Training Loss: 0.00002116, Training Accuracy: 1.00000000\u001b[0m\n",
      "\u001b[34mEpoch: 175, Training Loss: 0.00005734, Training Accuracy: 1.00000000\u001b[0m\n",
      "\u001b[34mEpoch: 176, Training Loss: 0.00002420, Training Accuracy: 1.00000000\u001b[0m\n",
      "\u001b[34mEpoch: 177, Training Loss: 0.00007426, Training Accuracy: 1.00000000\u001b[0m\n",
      "\n",
      "2023-08-05 15:06:28 Uploading - Uploading generated training model\u001b[34mEpoch: 178, Training Loss: 0.00001307, Training Accuracy: 1.00000000\u001b[0m\n",
      "\u001b[34mEpoch: 179, Training Loss: 0.00002440, Training Accuracy: 1.00000000\u001b[0m\n",
      "\u001b[34mEpoch: 180, Training Loss: 0.00001357, Training Accuracy: 1.00000000\u001b[0m\n",
      "\u001b[34mEpoch: 181, Training Loss: 0.00003303, Training Accuracy: 1.00000000\u001b[0m\n",
      "\u001b[34mEpoch: 182, Training Loss: 0.00005272, Training Accuracy: 1.00000000\u001b[0m\n",
      "\u001b[34mEpoch: 183, Training Loss: 0.00005077, Training Accuracy: 1.00000000\u001b[0m\n",
      "\u001b[34mEpoch: 184, Training Loss: 0.00002507, Training Accuracy: 1.00000000\u001b[0m\n",
      "\u001b[34mEpoch: 185, Training Loss: 0.00003622, Training Accuracy: 1.00000000\u001b[0m\n",
      "\u001b[34mEpoch: 186, Training Loss: 0.00001734, Training Accuracy: 1.00000000\u001b[0m\n",
      "\u001b[34mEpoch: 187, Training Loss: 0.00001761, Training Accuracy: 1.00000000\u001b[0m\n",
      "\u001b[34mEpoch: 188, Training Loss: 0.00003221, Training Accuracy: 1.00000000\u001b[0m\n",
      "\u001b[34mEpoch: 189, Training Loss: 0.00005641, Training Accuracy: 1.00000000\u001b[0m\n",
      "\u001b[34mEpoch: 190, Training Loss: 0.00001257, Training Accuracy: 1.00000000\u001b[0m\n",
      "\u001b[34mEpoch: 191, Training Loss: 0.00001387, Training Accuracy: 1.00000000\u001b[0m\n",
      "\u001b[34mEpoch: 192, Training Loss: 0.00006528, Training Accuracy: 1.00000000\u001b[0m\n",
      "\u001b[34mEpoch: 193, Training Loss: 0.00002217, Training Accuracy: 1.00000000\u001b[0m\n",
      "\u001b[34mEpoch: 194, Training Loss: 0.00001030, Training Accuracy: 1.00000000\u001b[0m\n",
      "\u001b[34mEpoch: 195, Training Loss: 0.00003496, Training Accuracy: 1.00000000\u001b[0m\n",
      "\u001b[34mEpoch: 196, Training Loss: 0.00003377, Training Accuracy: 1.00000000\u001b[0m\n",
      "\u001b[34mEpoch: 197, Training Loss: 0.00003045, Training Accuracy: 1.00000000\u001b[0m\n",
      "\u001b[34mEpoch: 198, Training Loss: 0.00001840, Training Accuracy: 1.00000000\u001b[0m\n",
      "\u001b[34mEpoch: 199, Training Loss: 0.00001379, Training Accuracy: 1.00000000\u001b[0m\n",
      "\u001b[34mEpoch: 200, Training Loss: 0.00002596, Training Accuracy: 1.00000000\u001b[0m\n",
      "\u001b[34m--------------------------------------\u001b[0m\n",
      "\u001b[34mScoring the model.\u001b[0m\n",
      "\u001b[34mtrain:loss 0.00002596\u001b[0m\n",
      "\u001b[34mtrain:acc 1.00000000\u001b[0m\n",
      "\u001b[34m--------------------------------------\u001b[0m\n",
      "\u001b[34m2023-08-05 15:06:20,317 sagemaker-training-toolkit INFO     Waiting for the process to finish and give a return code.\u001b[0m\n",
      "\u001b[34m2023-08-05 15:06:20,317 sagemaker-training-toolkit INFO     Done waiting for a return code. Received 0 from exiting process.\u001b[0m\n",
      "\u001b[34m2023-08-05 15:06:20,317 sagemaker-training-toolkit INFO     Reporting training SUCCESS\u001b[0m\n",
      "\n",
      "2023-08-05 15:06:39 Completed - Training job completed\n",
      "Training seconds: 372\n",
      "Billable seconds: 372\n"
     ]
    }
   ],
   "source": [
    "estimator = sagemaker.algorithm.AlgorithmEstimator(\n",
    "    algorithm_arn=algo_arn,\n",
    "    role=role,\n",
    "    instance_count=1,\n",
    "    instance_type=instance_type,\n",
    "    input_mode=\"File\",\n",
    "    sagemaker_session=sagemaker_session,\n",
    "    hyperparameters={\n",
    "        \"num-layers\": 1,\n",
    "        \"hidden-size\": 128,\n",
    "        \"dropout\": 0.8,\n",
    "        \"filters-1\": 128,\n",
    "        \"filters-2\": 256,\n",
    "        \"filters-3\": 128,\n",
    "        \"kernel-size-1\": 8,\n",
    "        \"kernel-size-2\": 5,\n",
    "        \"kernel-size-3\": 3,\n",
    "        \"batch-size\": 8,\n",
    "        \"lr\": 0.001,\n",
    "        \"epochs\": 200,\n",
    "    },\n",
    ")\n",
    "\n",
    "estimator.fit({\"training\": training_data})"
   ]
  },
  {
   "cell_type": "markdown",
   "id": "c6c46475-d04e-4f2d-ab63-a682dc8c119b",
   "metadata": {},
   "source": [
    "### 4. Inference"
   ]
  },
  {
   "cell_type": "markdown",
   "id": "5a9782c1-3bf8-4062-ad2d-bc45b80531dd",
   "metadata": {},
   "source": [
    "Generate the test set predictions."
   ]
  },
  {
   "cell_type": "code",
   "execution_count": 20,
   "id": "2adefd9b-5530-420f-8408-55c37dca41f4",
   "metadata": {
    "tags": []
   },
   "outputs": [
    {
     "name": "stderr",
     "output_type": "stream",
     "text": [
      "INFO:sagemaker:Creating model package with name: lstm-fcn-algo-v1-9-2023-08-05-15-07-10-644\n"
     ]
    },
    {
     "name": "stdout",
     "output_type": "stream",
     "text": [
      "........."
     ]
    },
    {
     "name": "stderr",
     "output_type": "stream",
     "text": [
      "INFO:sagemaker:Creating model with name: lstm-fcn-algo-v1-9-2023-08-05-15-07-10--2023-08-05-15-07-56-141\n"
     ]
    },
    {
     "name": "stdout",
     "output_type": "stream",
     "text": [
      "\n"
     ]
    },
    {
     "name": "stderr",
     "output_type": "stream",
     "text": [
      "INFO:sagemaker:Creating transform job with name: lstm-fcn-algo-v1-9-2023-08-05-15-07-56-806\n"
     ]
    },
    {
     "name": "stdout",
     "output_type": "stream",
     "text": [
      ".......................................\n",
      "\u001b[34mWarning: TorchServe is using non-default JVM parameters: -XX:-UseContainerSupport\u001b[0m\n",
      "\u001b[34mWARNING: sun.reflect.Reflection.getCallerClass is not supported. This will impact performance.\u001b[0m\n",
      "\u001b[34m2023-08-05T15:14:29,133 [INFO ] main org.pytorch.serve.servingsdk.impl.PluginsManager - Initializing plugins manager...\u001b[0m\n",
      "\u001b[34m2023-08-05T15:14:29,196 [INFO ] main org.pytorch.serve.metrics.configuration.MetricConfiguration - Successfully loaded metrics configuration from /opt/conda/lib/python3.10/site-packages/ts/configs/metrics.yaml\u001b[0m\n",
      "\u001b[34m2023-08-05T15:14:29,305 [INFO ] main org.pytorch.serve.ModelServer - \u001b[0m\n",
      "\u001b[34mTorchserve version: 0.8.1\u001b[0m\n",
      "\u001b[34mTS Home: /opt/conda/lib/python3.10/site-packages\u001b[0m\n",
      "\u001b[34mCurrent directory: /\u001b[0m\n",
      "\u001b[34mTemp directory: /home/model-server/tmp\u001b[0m\n",
      "\u001b[34mMetrics config path: /opt/conda/lib/python3.10/site-packages/ts/configs/metrics.yaml\u001b[0m\n",
      "\u001b[34mNumber of GPUs: 0\u001b[0m\n",
      "\u001b[34mNumber of CPUs: 4\u001b[0m\n",
      "\u001b[34mMax heap size: 3934 M\u001b[0m\n",
      "\u001b[34mPython executable: /opt/conda/bin/python3.10\u001b[0m\n",
      "\u001b[34mConfig file: /etc/sagemaker-ts.properties\u001b[0m\n",
      "\u001b[34mInference address: http://0.0.0.0:8080\u001b[0m\n",
      "\u001b[34mManagement address: http://0.0.0.0:8080\u001b[0m\n",
      "\u001b[34mMetrics address: http://127.0.0.1:8082\u001b[0m\n",
      "\u001b[34mModel Store: /.sagemaker/ts/models\u001b[0m\n",
      "\u001b[34mInitial Models: model=/opt/ml/model\u001b[0m\n",
      "\u001b[34mLog dir: /logs\u001b[0m\n",
      "\u001b[34mMetrics dir: /logs\u001b[0m\n",
      "\u001b[34mNetty threads: 0\u001b[0m\n",
      "\u001b[34mNetty client threads: 0\u001b[0m\n",
      "\u001b[34mDefault workers per model: 4\u001b[0m\n",
      "\u001b[34mBlacklist Regex: N/A\u001b[0m\n",
      "\u001b[34mMaximum Response Size: 6553500\u001b[0m\n",
      "\u001b[34mMaximum Request Size: 6553500\u001b[0m\n",
      "\u001b[34mLimit Maximum Image Pixels: true\u001b[0m\n",
      "\u001b[34mPrefer direct buffer: false\u001b[0m\n",
      "\u001b[34mAllowed Urls: [file://.*|http(s)?://.*]\u001b[0m\n",
      "\u001b[34mCustom python dependency for model allowed: false\u001b[0m\n",
      "\u001b[34mEnable metrics API: true\u001b[0m\n",
      "\u001b[34mMetrics mode: log\u001b[0m\n",
      "\u001b[34mDisable system metrics: true\u001b[0m\n",
      "\u001b[34mWorkflow Store: /.sagemaker/ts/models\u001b[0m\n",
      "\u001b[34mModel config: N/A\u001b[0m\n",
      "\u001b[34m2023-08-05T15:14:29,312 [INFO ] main org.pytorch.serve.servingsdk.impl.PluginsManager -  Loading snapshot serializer plugin...\u001b[0m\n",
      "\u001b[34m2023-08-05T15:14:29,335 [INFO ] main org.pytorch.serve.ModelServer - Loading initial models: /opt/ml/model\u001b[0m\n",
      "\u001b[34m2023-08-05T15:14:29,339 [WARN ] main org.pytorch.serve.archive.model.ModelArchive - Model archive version is not defined. Please upgrade to torch-model-archiver 0.2.0 or higher\u001b[0m\n",
      "\u001b[34m2023-08-05T15:14:29,340 [WARN ] main org.pytorch.serve.archive.model.ModelArchive - Model archive createdOn is not defined. Please upgrade to torch-model-archiver 0.2.0 or higher\u001b[0m\n",
      "\u001b[34m2023-08-05T15:14:29,343 [INFO ] main org.pytorch.serve.wlm.ModelManager - Model model loaded.\u001b[0m\n",
      "\u001b[34m2023-08-05T15:14:29,355 [INFO ] main org.pytorch.serve.ModelServer - Initialize Inference server with: EpollServerSocketChannel.\u001b[0m\n",
      "\u001b[34m2023-08-05T15:14:29,555 [INFO ] main org.pytorch.serve.ModelServer - Inference API bind to: http://0.0.0.0:8080\u001b[0m\n",
      "\u001b[34m2023-08-05T15:14:29,556 [INFO ] main org.pytorch.serve.ModelServer - Initialize Metrics server with: EpollServerSocketChannel.\u001b[0m\n",
      "\u001b[34m2023-08-05T15:14:29,568 [INFO ] main org.pytorch.serve.ModelServer - Metrics API bind to: http://127.0.0.1:8082\u001b[0m\n",
      "\u001b[34mModel server started.\u001b[0m\n",
      "\u001b[34m2023-08-05T15:14:31,842 [INFO ] W-9001-model_1.0-stdout MODEL_LOG - s_name_part0=/home/model-server/tmp/.ts.sock, s_name_part1=9001, pid=46\u001b[0m\n",
      "\u001b[34m2023-08-05T15:14:31,845 [INFO ] W-9001-model_1.0-stdout MODEL_LOG - Listening on port: /home/model-server/tmp/.ts.sock.9001\u001b[0m\n",
      "\u001b[34m2023-08-05T15:14:31,882 [INFO ] W-9001-model_1.0-stdout MODEL_LOG - Successfully loaded /opt/conda/lib/python3.10/site-packages/ts/configs/metrics.yaml.\u001b[0m\n",
      "\u001b[34m2023-08-05T15:14:31,883 [INFO ] W-9001-model_1.0-stdout MODEL_LOG - [PID]46\u001b[0m\n",
      "\u001b[34m2023-08-05T15:14:31,885 [INFO ] W-9001-model_1.0-stdout MODEL_LOG - Torch worker started.\u001b[0m\n",
      "\u001b[34m2023-08-05T15:14:31,888 [INFO ] W-9001-model_1.0-stdout MODEL_LOG - Python runtime: 3.10.9\u001b[0m\n",
      "\u001b[34m2023-08-05T15:14:31,892 [INFO ] W-9001-model_1.0 org.pytorch.serve.wlm.WorkerThread - Connecting to: /home/model-server/tmp/.ts.sock.9001\u001b[0m\n",
      "\u001b[34m2023-08-05T15:14:31,925 [INFO ] W-9001-model_1.0-stdout MODEL_LOG - Connection accepted: /home/model-server/tmp/.ts.sock.9001.\u001b[0m\n",
      "\u001b[34m2023-08-05T15:14:31,929 [INFO ] W-9001-model_1.0 org.pytorch.serve.wlm.WorkerThread - Flushing req.cmd LOAD to backend at: 1691248471929\u001b[0m\n",
      "\u001b[34m2023-08-05T15:14:32,006 [INFO ] W-9001-model_1.0-stdout MODEL_LOG - model_name: model, batchSize: 1\u001b[0m\n",
      "\u001b[34m2023-08-05T15:14:32,013 [INFO ] W-9000-model_1.0-stdout MODEL_LOG - s_name_part0=/home/model-server/tmp/.ts.sock, s_name_part1=9000, pid=49\u001b[0m\n",
      "\u001b[34m2023-08-05T15:14:32,017 [INFO ] W-9000-model_1.0-stdout MODEL_LOG - Listening on port: /home/model-server/tmp/.ts.sock.9000\u001b[0m\n",
      "\u001b[34m2023-08-05T15:14:32,053 [INFO ] W-9000-model_1.0-stdout MODEL_LOG - Successfully loaded /opt/conda/lib/python3.10/site-packages/ts/configs/metrics.yaml.\u001b[0m\n",
      "\u001b[34m2023-08-05T15:14:32,058 [INFO ] W-9000-model_1.0-stdout MODEL_LOG - [PID]49\u001b[0m\n",
      "\u001b[34m2023-08-05T15:14:32,058 [INFO ] W-9000-model_1.0-stdout MODEL_LOG - Torch worker started.\u001b[0m\n",
      "\u001b[34m2023-08-05T15:14:32,059 [INFO ] W-9000-model_1.0 org.pytorch.serve.wlm.WorkerThread - Connecting to: /home/model-server/tmp/.ts.sock.9000\u001b[0m\n",
      "\u001b[34m2023-08-05T15:14:32,061 [INFO ] W-9000-model_1.0-stdout MODEL_LOG - Python runtime: 3.10.9\u001b[0m\n",
      "\u001b[34m2023-08-05T15:14:32,081 [INFO ] W-9000-model_1.0-stdout MODEL_LOG - Connection accepted: /home/model-server/tmp/.ts.sock.9000.\u001b[0m\n",
      "\u001b[34m2023-08-05T15:14:32,082 [INFO ] W-9000-model_1.0 org.pytorch.serve.wlm.WorkerThread - Flushing req.cmd LOAD to backend at: 1691248472082\u001b[0m\n",
      "\u001b[34m2023-08-05T15:14:32,113 [INFO ] W-9002-model_1.0-stdout MODEL_LOG - s_name_part0=/home/model-server/tmp/.ts.sock, s_name_part1=9002, pid=47\u001b[0m\n",
      "\u001b[34m2023-08-05T15:14:32,116 [INFO ] W-9002-model_1.0-stdout MODEL_LOG - Listening on port: /home/model-server/tmp/.ts.sock.9002\u001b[0m\n",
      "\u001b[34m2023-08-05T15:14:32,132 [INFO ] W-9000-model_1.0-stdout MODEL_LOG - model_name: model, batchSize: 1\u001b[0m\n",
      "\u001b[34m2023-08-05T15:14:32,133 [INFO ] W-9002-model_1.0-stdout MODEL_LOG - Successfully loaded /opt/conda/lib/python3.10/site-packages/ts/configs/metrics.yaml.\u001b[0m\n",
      "\u001b[34m2023-08-05T15:14:32,134 [INFO ] W-9002-model_1.0-stdout MODEL_LOG - [PID]47\u001b[0m\n",
      "\u001b[34m2023-08-05T15:14:32,135 [INFO ] W-9002-model_1.0-stdout MODEL_LOG - Torch worker started.\u001b[0m\n",
      "\u001b[34m2023-08-05T15:14:32,135 [INFO ] W-9002-model_1.0 org.pytorch.serve.wlm.WorkerThread - Connecting to: /home/model-server/tmp/.ts.sock.9002\u001b[0m\n",
      "\u001b[34m2023-08-05T15:14:32,137 [INFO ] W-9002-model_1.0-stdout MODEL_LOG - Python runtime: 3.10.9\u001b[0m\n",
      "\u001b[34m2023-08-05T15:14:32,150 [INFO ] W-9002-model_1.0-stdout MODEL_LOG - Connection accepted: /home/model-server/tmp/.ts.sock.9002.\u001b[0m\n",
      "\u001b[34m2023-08-05T15:14:32,151 [INFO ] W-9002-model_1.0 org.pytorch.serve.wlm.WorkerThread - Flushing req.cmd LOAD to backend at: 1691248472151\u001b[0m\n",
      "\u001b[34m2023-08-05T15:14:32,197 [INFO ] W-9002-model_1.0-stdout MODEL_LOG - model_name: model, batchSize: 1\u001b[0m\n",
      "\u001b[34m2023-08-05T15:14:32,687 [INFO ] W-9003-model_1.0-stdout MODEL_LOG - s_name_part0=/home/model-server/tmp/.ts.sock, s_name_part1=9003, pid=48\u001b[0m\n",
      "\u001b[34m2023-08-05T15:14:32,688 [INFO ] W-9003-model_1.0-stdout MODEL_LOG - Listening on port: /home/model-server/tmp/.ts.sock.9003\u001b[0m\n",
      "\u001b[34m2023-08-05T15:14:32,705 [INFO ] W-9003-model_1.0-stdout MODEL_LOG - Successfully loaded /opt/conda/lib/python3.10/site-packages/ts/configs/metrics.yaml.\u001b[0m\n",
      "\u001b[34m2023-08-05T15:14:32,705 [INFO ] W-9003-model_1.0-stdout MODEL_LOG - [PID]48\u001b[0m\n",
      "\u001b[34m2023-08-05T15:14:32,706 [INFO ] W-9003-model_1.0 org.pytorch.serve.wlm.WorkerThread - Connecting to: /home/model-server/tmp/.ts.sock.9003\u001b[0m\n",
      "\u001b[34m2023-08-05T15:14:32,705 [INFO ] W-9003-model_1.0-stdout MODEL_LOG - Torch worker started.\u001b[0m\n",
      "\u001b[34m2023-08-05T15:14:32,707 [INFO ] W-9003-model_1.0-stdout MODEL_LOG - Python runtime: 3.10.9\u001b[0m\n",
      "\u001b[34m2023-08-05T15:14:32,714 [INFO ] W-9003-model_1.0-stdout MODEL_LOG - Connection accepted: /home/model-server/tmp/.ts.sock.9003.\u001b[0m\n",
      "\u001b[34m2023-08-05T15:14:32,714 [INFO ] W-9003-model_1.0 org.pytorch.serve.wlm.WorkerThread - Flushing req.cmd LOAD to backend at: 1691248472714\u001b[0m\n",
      "\u001b[34m2023-08-05T15:14:32,764 [INFO ] W-9003-model_1.0-stdout MODEL_LOG - model_name: model, batchSize: 1\u001b[0m\n",
      "\u001b[34m2023-08-05T15:14:32,895 [INFO ] W-9001-model_1.0 org.pytorch.serve.wlm.WorkerThread - Backend response time: 870\u001b[0m\n",
      "\u001b[34m2023-08-05T15:14:32,897 [INFO ] W-9001-model_1.0 TS_METRICS - WorkerLoadTime.Milliseconds:3545.0|#WorkerName:W-9001-model_1.0,Level:Host|#hostname:d658af10f495,timestamp:1691248472\u001b[0m\n",
      "\u001b[34m2023-08-05T15:14:32,897 [INFO ] W-9001-model_1.0 TS_METRICS - WorkerThreadTime.Milliseconds:98.0|#Level:Host|#hostname:d658af10f495,timestamp:1691248472\u001b[0m\n",
      "\u001b[34m2023-08-05T15:14:32,927 [INFO ] W-9002-model_1.0 org.pytorch.serve.wlm.WorkerThread - Backend response time: 731\u001b[0m\n",
      "\u001b[34m2023-08-05T15:14:32,927 [INFO ] W-9002-model_1.0 TS_METRICS - WorkerLoadTime.Milliseconds:3576.0|#WorkerName:W-9002-model_1.0,Level:Host|#hostname:d658af10f495,timestamp:1691248472\u001b[0m\n",
      "\u001b[34m2023-08-05T15:14:32,928 [INFO ] W-9002-model_1.0 TS_METRICS - WorkerThreadTime.Milliseconds:46.0|#Level:Host|#hostname:d658af10f495,timestamp:1691248472\u001b[0m\n",
      "\u001b[34m2023-08-05T15:14:33,140 [INFO ] W-9000-model_1.0 org.pytorch.serve.wlm.WorkerThread - Backend response time: 1008\u001b[0m\n",
      "\u001b[34m2023-08-05T15:14:33,141 [INFO ] W-9000-model_1.0 TS_METRICS - WorkerLoadTime.Milliseconds:3791.0|#WorkerName:W-9000-model_1.0,Level:Host|#hostname:d658af10f495,timestamp:1691248473\u001b[0m\n",
      "\u001b[34m2023-08-05T15:14:33,141 [INFO ] W-9000-model_1.0 TS_METRICS - WorkerThreadTime.Milliseconds:51.0|#Level:Host|#hostname:d658af10f495,timestamp:1691248473\u001b[0m\n",
      "\u001b[34m2023-08-05T15:14:33,292 [INFO ] W-9003-model_1.0 org.pytorch.serve.wlm.WorkerThread - Backend response time: 519\u001b[0m\n",
      "\u001b[34m2023-08-05T15:14:33,293 [INFO ] W-9003-model_1.0 TS_METRICS - WorkerLoadTime.Milliseconds:3942.0|#WorkerName:W-9003-model_1.0,Level:Host|#hostname:d658af10f495,timestamp:1691248473\u001b[0m\n",
      "\u001b[34m2023-08-05T15:14:33,293 [INFO ] W-9003-model_1.0 TS_METRICS - WorkerThreadTime.Milliseconds:60.0|#Level:Host|#hostname:d658af10f495,timestamp:1691248473\u001b[0m\n",
      "\u001b[34m2023-08-05T15:14:37,673 [INFO ] pool-2-thread-5 ACCESS_LOG - /169.254.255.130:43890 \"GET /ping HTTP/1.1\" 200 34\u001b[0m\n",
      "\u001b[34m2023-08-05T15:14:37,675 [INFO ] pool-2-thread-5 TS_METRICS - Requests2XX.Count:1.0|#Level:Host|#hostname:d658af10f495,timestamp:1691248477\u001b[0m\n",
      "\u001b[34m2023-08-05T15:14:37,703 [INFO ] epollEventLoopGroup-3-2 ACCESS_LOG - /169.254.255.130:43904 \"GET /execution-parameters HTTP/1.1\" 404 1\u001b[0m\n",
      "\u001b[35m2023-08-05T15:14:37,673 [INFO ] pool-2-thread-5 ACCESS_LOG - /169.254.255.130:43890 \"GET /ping HTTP/1.1\" 200 34\u001b[0m\n",
      "\u001b[35m2023-08-05T15:14:37,675 [INFO ] pool-2-thread-5 TS_METRICS - Requests2XX.Count:1.0|#Level:Host|#hostname:d658af10f495,timestamp:1691248477\u001b[0m\n",
      "\u001b[35m2023-08-05T15:14:37,703 [INFO ] epollEventLoopGroup-3-2 ACCESS_LOG - /169.254.255.130:43904 \"GET /execution-parameters HTTP/1.1\" 404 1\u001b[0m\n",
      "\u001b[34m2023-08-05T15:14:37,705 [INFO ] epollEventLoopGroup-3-2 TS_METRICS - Requests4XX.Count:1.0|#Level:Host|#hostname:d658af10f495,timestamp:1691248477\u001b[0m\n",
      "\u001b[34m2023-08-05T15:14:37,870 [INFO ] epollEventLoopGroup-3-3 TS_METRICS - ts_inference_requests_total.Count:1.0|#model_name:model,model_version:default|#hostname:d658af10f495,timestamp:1691248477\u001b[0m\n",
      "\u001b[34m2023-08-05T15:14:37,872 [INFO ] W-9001-model_1.0 org.pytorch.serve.wlm.WorkerThread - Flushing req.cmd PREDICT to backend at: 1691248477872\u001b[0m\n",
      "\u001b[34m2023-08-05T15:14:37,874 [INFO ] W-9001-model_1.0-stdout MODEL_LOG - Backend received inference at: 1691248477\u001b[0m\n",
      "\u001b[34m2023-08-05T15:14:37,998 [INFO ] W-9001-model_1.0-stdout MODEL_LOG - Running batch transform job on 100 records.\u001b[0m\n",
      "\u001b[34m2023-08-05T15:14:37,999 [INFO ] W-9001-model_1.0-stdout MODEL_LOG - Batch transform job returned 100 records.\u001b[0m\n",
      "\u001b[34m2023-08-05T15:14:37,999 [INFO ] W-9001-model_1.0-stdout org.pytorch.serve.wlm.WorkerLifeCycle - result=[METRICS]PredictionTime.Milliseconds:124.1|#ModelName:model,Level:Model|#hostname:d658af10f495,1691248477,2fe8a22b-4a0c-4f09-bc44-3b92489d7280, pattern=[METRICS]\u001b[0m\n",
      "\u001b[34m2023-08-05T15:14:38,000 [INFO ] W-9001-model_1.0 ACCESS_LOG - /169.254.255.130:43906 \"POST /invocations HTTP/1.1\" 200 132\u001b[0m\n",
      "\u001b[34m2023-08-05T15:14:38,001 [INFO ] W-9001-model_1.0 TS_METRICS - Requests2XX.Count:1.0|#Level:Host|#hostname:d658af10f495,timestamp:1691248478\u001b[0m\n",
      "\u001b[34m2023-08-05T15:14:38,001 [INFO ] W-9001-model_1.0 TS_METRICS - ts_inference_latency_microseconds.Microseconds:128155.993|#model_name:model,model_version:default|#hostname:d658af10f495,timestamp:1691248478\u001b[0m\n",
      "\u001b[34m2023-08-05T15:14:38,001 [INFO ] W-9001-model_1.0-stdout MODEL_METRICS - PredictionTime.ms:124.1|#ModelName:model,Level:Model|#hostname:d658af10f495,requestID:2fe8a22b-4a0c-4f09-bc44-3b92489d7280,timestamp:1691248478\u001b[0m\n",
      "\u001b[34m2023-08-05T15:14:38,002 [INFO ] W-9001-model_1.0 TS_METRICS - ts_queue_latency_microseconds.Microseconds:181.993|#model_name:model,model_version:default|#hostname:d658af10f495,timestamp:1691248478\u001b[0m\n",
      "\u001b[34m2023-08-05T15:14:38,003 [INFO ] W-9001-model_1.0 TS_METRICS - QueueTime.Milliseconds:0.0|#Level:Host|#hostname:d658af10f495,timestamp:1691248478\u001b[0m\n",
      "\u001b[34m2023-08-05T15:14:38,004 [INFO ] W-9001-model_1.0 org.pytorch.serve.wlm.WorkerThread - Backend response time: 120\u001b[0m\n",
      "\u001b[34m2023-08-05T15:14:38,005 [INFO ] W-9001-model_1.0 TS_METRICS - WorkerThreadTime.Milliseconds:13.0|#Level:Host|#hostname:d658af10f495,timestamp:1691248478\u001b[0m\n",
      "\u001b[35m2023-08-05T15:14:37,705 [INFO ] epollEventLoopGroup-3-2 TS_METRICS - Requests4XX.Count:1.0|#Level:Host|#hostname:d658af10f495,timestamp:1691248477\u001b[0m\n",
      "\u001b[35m2023-08-05T15:14:37,870 [INFO ] epollEventLoopGroup-3-3 TS_METRICS - ts_inference_requests_total.Count:1.0|#model_name:model,model_version:default|#hostname:d658af10f495,timestamp:1691248477\u001b[0m\n",
      "\u001b[35m2023-08-05T15:14:37,872 [INFO ] W-9001-model_1.0 org.pytorch.serve.wlm.WorkerThread - Flushing req.cmd PREDICT to backend at: 1691248477872\u001b[0m\n",
      "\u001b[35m2023-08-05T15:14:37,874 [INFO ] W-9001-model_1.0-stdout MODEL_LOG - Backend received inference at: 1691248477\u001b[0m\n",
      "\u001b[35m2023-08-05T15:14:37,998 [INFO ] W-9001-model_1.0-stdout MODEL_LOG - Running batch transform job on 100 records.\u001b[0m\n",
      "\u001b[35m2023-08-05T15:14:37,999 [INFO ] W-9001-model_1.0-stdout MODEL_LOG - Batch transform job returned 100 records.\u001b[0m\n",
      "\u001b[35m2023-08-05T15:14:37,999 [INFO ] W-9001-model_1.0-stdout org.pytorch.serve.wlm.WorkerLifeCycle - result=[METRICS]PredictionTime.Milliseconds:124.1|#ModelName:model,Level:Model|#hostname:d658af10f495,1691248477,2fe8a22b-4a0c-4f09-bc44-3b92489d7280, pattern=[METRICS]\u001b[0m\n",
      "\u001b[35m2023-08-05T15:14:38,000 [INFO ] W-9001-model_1.0 ACCESS_LOG - /169.254.255.130:43906 \"POST /invocations HTTP/1.1\" 200 132\u001b[0m\n",
      "\u001b[35m2023-08-05T15:14:38,001 [INFO ] W-9001-model_1.0 TS_METRICS - Requests2XX.Count:1.0|#Level:Host|#hostname:d658af10f495,timestamp:1691248478\u001b[0m\n",
      "\u001b[35m2023-08-05T15:14:38,001 [INFO ] W-9001-model_1.0 TS_METRICS - ts_inference_latency_microseconds.Microseconds:128155.993|#model_name:model,model_version:default|#hostname:d658af10f495,timestamp:1691248478\u001b[0m\n",
      "\u001b[35m2023-08-05T15:14:38,001 [INFO ] W-9001-model_1.0-stdout MODEL_METRICS - PredictionTime.ms:124.1|#ModelName:model,Level:Model|#hostname:d658af10f495,requestID:2fe8a22b-4a0c-4f09-bc44-3b92489d7280,timestamp:1691248478\u001b[0m\n",
      "\u001b[35m2023-08-05T15:14:38,002 [INFO ] W-9001-model_1.0 TS_METRICS - ts_queue_latency_microseconds.Microseconds:181.993|#model_name:model,model_version:default|#hostname:d658af10f495,timestamp:1691248478\u001b[0m\n",
      "\u001b[35m2023-08-05T15:14:38,003 [INFO ] W-9001-model_1.0 TS_METRICS - QueueTime.Milliseconds:0.0|#Level:Host|#hostname:d658af10f495,timestamp:1691248478\u001b[0m\n",
      "\u001b[35m2023-08-05T15:14:38,004 [INFO ] W-9001-model_1.0 org.pytorch.serve.wlm.WorkerThread - Backend response time: 120\u001b[0m\n",
      "\u001b[35m2023-08-05T15:14:38,005 [INFO ] W-9001-model_1.0 TS_METRICS - WorkerThreadTime.Milliseconds:13.0|#Level:Host|#hostname:d658af10f495,timestamp:1691248478\u001b[0m\n",
      "\u001b[32m2023-08-05T15:14:37.712:[sagemaker logs]: MaxConcurrentTransforms=1, MaxPayloadInMB=100, BatchStrategy=MULTI_RECORD\u001b[0m\n"
     ]
    }
   ],
   "source": [
    "transformer = estimator.transformer(\n",
    "    instance_count=1,\n",
    "    instance_type=instance_type,\n",
    "    max_payload=100,\n",
    ")\n",
    "\n",
    "transformer.transform(\n",
    "    data=test_data,\n",
    "    content_type=\"text/csv\",\n",
    ")"
   ]
  },
  {
   "cell_type": "markdown",
   "id": "d3f5f2db-186c-4ca1-adc1-6e9317669012",
   "metadata": {},
   "source": [
    "Load the test set predictions from S3."
   ]
  },
  {
   "cell_type": "code",
   "execution_count": 21,
   "id": "0a99da1a-2cb3-4a57-8957-fd82ca746835",
   "metadata": {
    "tags": []
   },
   "outputs": [],
   "source": [
    "predictions = sagemaker_session.read_s3_file(\n",
    "    bucket=bucket,\n",
    "    key_prefix=f\"{transformer.latest_transform_job.name}/ECG200_test.csv.out\"\n",
    ")"
   ]
  },
  {
   "cell_type": "code",
   "execution_count": 22,
   "id": "7cdfd897-342b-4673-a941-313e0c6ffc72",
   "metadata": {
    "tags": []
   },
   "outputs": [],
   "source": [
    "predictions = pd.DataFrame(data=predictions.split(\"\\n\")[:-1]).astype(float)"
   ]
  },
  {
   "cell_type": "code",
   "execution_count": 23,
   "id": "3f7ce80f-8607-4ea6-a5c1-388b7ea045d0",
   "metadata": {
    "tags": []
   },
   "outputs": [
    {
     "data": {
      "text/plain": [
       "(100, 1)"
      ]
     },
     "execution_count": 23,
     "metadata": {},
     "output_type": "execute_result"
    }
   ],
   "source": [
    "predictions.shape"
   ]
  },
  {
   "cell_type": "code",
   "execution_count": 24,
   "id": "40bac8d8-fc19-4cbb-a1c1-25953cbc51f7",
   "metadata": {
    "tags": []
   },
   "outputs": [
    {
     "data": {
      "text/html": [
       "<div>\n",
       "<style scoped>\n",
       "    .dataframe tbody tr th:only-of-type {\n",
       "        vertical-align: middle;\n",
       "    }\n",
       "\n",
       "    .dataframe tbody tr th {\n",
       "        vertical-align: top;\n",
       "    }\n",
       "\n",
       "    .dataframe thead th {\n",
       "        text-align: right;\n",
       "    }\n",
       "</style>\n",
       "<table border=\"1\" class=\"dataframe\">\n",
       "  <thead>\n",
       "    <tr style=\"text-align: right;\">\n",
       "      <th></th>\n",
       "      <th>0</th>\n",
       "    </tr>\n",
       "  </thead>\n",
       "  <tbody>\n",
       "    <tr>\n",
       "      <th>0</th>\n",
       "      <td>1.0</td>\n",
       "    </tr>\n",
       "    <tr>\n",
       "      <th>1</th>\n",
       "      <td>1.0</td>\n",
       "    </tr>\n",
       "    <tr>\n",
       "      <th>2</th>\n",
       "      <td>-1.0</td>\n",
       "    </tr>\n",
       "    <tr>\n",
       "      <th>3</th>\n",
       "      <td>1.0</td>\n",
       "    </tr>\n",
       "    <tr>\n",
       "      <th>4</th>\n",
       "      <td>-1.0</td>\n",
       "    </tr>\n",
       "  </tbody>\n",
       "</table>\n",
       "</div>"
      ],
      "text/plain": [
       "     0\n",
       "0  1.0\n",
       "1  1.0\n",
       "2 -1.0\n",
       "3  1.0\n",
       "4 -1.0"
      ]
     },
     "execution_count": 24,
     "metadata": {},
     "output_type": "execute_result"
    }
   ],
   "source": [
    "predictions.head()"
   ]
  },
  {
   "cell_type": "code",
   "execution_count": 25,
   "id": "c212cd3c-1e1d-4200-882b-b6cbdd9421fc",
   "metadata": {
    "tags": []
   },
   "outputs": [
    {
     "data": {
      "text/plain": [
       "array([-1.,  1.])"
      ]
     },
     "execution_count": 25,
     "metadata": {},
     "output_type": "execute_result"
    }
   ],
   "source": [
    "predictions.iloc[:, 0].sort_values().unique()"
   ]
  },
  {
   "cell_type": "code",
   "execution_count": 26,
   "id": "d3851230-443a-4ccc-a04d-9f74c99bdea7",
   "metadata": {
    "tags": []
   },
   "outputs": [
    {
     "data": {
      "text/plain": [
       "-1.0    37\n",
       " 1.0    63\n",
       "Name: count, dtype: int64"
      ]
     },
     "execution_count": 26,
     "metadata": {},
     "output_type": "execute_result"
    }
   ],
   "source": [
    "predictions.iloc[:, 0].rename(None).value_counts().sort_index()"
   ]
  },
  {
   "cell_type": "markdown",
   "id": "d9775607-5c92-4316-9ec6-f3569dfb451a",
   "metadata": {},
   "source": [
    "Calculate the classification metrics."
   ]
  },
  {
   "cell_type": "code",
   "execution_count": 27,
   "id": "ad2b172b-9664-42d8-8ee9-5239255c3de9",
   "metadata": {
    "tags": []
   },
   "outputs": [],
   "source": [
    "metrics = pd.DataFrame(classification_report(y_true=test_dataset.iloc[:, 0], y_pred=predictions.iloc[:, 0], output_dict=True))"
   ]
  },
  {
   "cell_type": "code",
   "execution_count": 28,
   "id": "5a713384-ed3c-4be1-8c1a-68df5f896162",
   "metadata": {
    "tags": []
   },
   "outputs": [
    {
     "data": {
      "text/html": [
       "<div>\n",
       "<style scoped>\n",
       "    .dataframe tbody tr th:only-of-type {\n",
       "        vertical-align: middle;\n",
       "    }\n",
       "\n",
       "    .dataframe tbody tr th {\n",
       "        vertical-align: top;\n",
       "    }\n",
       "\n",
       "    .dataframe thead th {\n",
       "        text-align: right;\n",
       "    }\n",
       "</style>\n",
       "<table border=\"1\" class=\"dataframe\">\n",
       "  <thead>\n",
       "    <tr style=\"text-align: right;\">\n",
       "      <th></th>\n",
       "      <th>-1.0</th>\n",
       "      <th>1.0</th>\n",
       "      <th>accuracy</th>\n",
       "      <th>macro avg</th>\n",
       "      <th>weighted avg</th>\n",
       "    </tr>\n",
       "  </thead>\n",
       "  <tbody>\n",
       "    <tr>\n",
       "      <th>precision</th>\n",
       "      <td>0.864865</td>\n",
       "      <td>0.936508</td>\n",
       "      <td>0.91</td>\n",
       "      <td>0.900686</td>\n",
       "      <td>0.910716</td>\n",
       "    </tr>\n",
       "    <tr>\n",
       "      <th>recall</th>\n",
       "      <td>0.888889</td>\n",
       "      <td>0.921875</td>\n",
       "      <td>0.91</td>\n",
       "      <td>0.905382</td>\n",
       "      <td>0.910000</td>\n",
       "    </tr>\n",
       "    <tr>\n",
       "      <th>f1-score</th>\n",
       "      <td>0.876712</td>\n",
       "      <td>0.929134</td>\n",
       "      <td>0.91</td>\n",
       "      <td>0.902923</td>\n",
       "      <td>0.910262</td>\n",
       "    </tr>\n",
       "    <tr>\n",
       "      <th>support</th>\n",
       "      <td>36.000000</td>\n",
       "      <td>64.000000</td>\n",
       "      <td>0.91</td>\n",
       "      <td>100.000000</td>\n",
       "      <td>100.000000</td>\n",
       "    </tr>\n",
       "  </tbody>\n",
       "</table>\n",
       "</div>"
      ],
      "text/plain": [
       "                -1.0        1.0  accuracy   macro avg  weighted avg\n",
       "precision   0.864865   0.936508      0.91    0.900686      0.910716\n",
       "recall      0.888889   0.921875      0.91    0.905382      0.910000\n",
       "f1-score    0.876712   0.929134      0.91    0.902923      0.910262\n",
       "support    36.000000  64.000000      0.91  100.000000    100.000000"
      ]
     },
     "execution_count": 28,
     "metadata": {},
     "output_type": "execute_result"
    }
   ],
   "source": [
    "metrics"
   ]
  }
 ],
 "metadata": {
  "kernelspec": {
   "display_name": "conda_python3",
   "language": "python",
   "name": "conda_python3"
  },
  "language_info": {
   "codemirror_mode": {
    "name": "ipython",
    "version": 3
   },
   "file_extension": ".py",
   "mimetype": "text/x-python",
   "name": "python",
   "nbconvert_exporter": "python",
   "pygments_lexer": "ipython3",
   "version": "3.10.10"
  }
 },
 "nbformat": 4,
 "nbformat_minor": 5
}
