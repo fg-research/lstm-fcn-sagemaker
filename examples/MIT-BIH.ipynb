{
 "cells": [
  {
   "cell_type": "markdown",
   "id": "cde8f5df-dd87-426b-9da0-566f7014eb06",
   "metadata": {},
   "source": [
    "# Arrhythmia Classification with the LSTM-FCN SageMaker Algorithm"
   ]
  },
  {
   "cell_type": "markdown",
   "id": "bc221f4b-14ec-42ee-bda1-a90ed8025b1f",
   "metadata": {},
   "source": [
    "### 1. Environment set-up"
   ]
  },
  {
   "cell_type": "markdown",
   "id": "8aca03bc-945c-4f6a-99d6-9f4e00c53757",
   "metadata": {},
   "source": [
    "1. This notebook contains elements which render correctly in Jupyter interface. Open this notebook from an Amazon SageMaker Notebook Instance or Amazon SageMaker Studio.\n",
    "1. Ensure that IAM role used has **AmazonSageMakerFullAccess**\n",
    "1. Some hands-on experience using [Amazon SageMaker](https://aws.amazon.com/sagemaker/).\n",
    "1. To use this algorithm successfully, ensure that:\n",
    "    1. Either your IAM role has these three permissions and you have authority to make AWS Marketplace subscriptions in the AWS account used: \n",
    "        1. **aws-marketplace:ViewSubscriptions**\n",
    "        1. **aws-marketplace:Unsubscribe**\n",
    "        1. **aws-marketplace:Subscribe**  \n",
    "    2. or your AWS account has a subscription to the [Time Series Classification (LSTM-FCN) Algorithm from AWS Marketplace](https://aws.amazon.com/marketplace/pp/prodview-vzxmyw25oqtx6).\n",
    "\n",
    "To subscribe to the algorithm:\n",
    "1. Open the algorithm listing page.\n",
    "1. On the AWS Marketplace listing, click on the **Continue to subscribe** button.\n",
    "1. On the **Subscribe to this software** page, review and click on **\"Accept Offer\"** if you agree with EULA, pricing, and support terms. \n",
    "1. Once you click on the **Continue to configuration** button and then choose a **region**, you will see a **Product ARN**. This is the algorithm ARN that you need to specify while training a custom ML model. **Copy the ARN corresponding to your region and specify the same in the following cell.**"
   ]
  },
  {
   "cell_type": "code",
   "execution_count": 1,
   "id": "e9ff0fd9-8511-4f44-b08f-3287eb6f8cc8",
   "metadata": {
    "tags": []
   },
   "outputs": [],
   "source": [
    "algo_arn = \"arn:aws:sagemaker:<...>\""
   ]
  },
  {
   "cell_type": "code",
   "execution_count": 2,
   "id": "fd840f8b-002f-4bce-88ca-ea217288b5c7",
   "metadata": {
    "tags": []
   },
   "outputs": [
    {
     "name": "stdout",
     "output_type": "stream",
     "text": [
      "Requirement already satisfied: imbalanced-learn in /home/ec2-user/anaconda3/envs/python3/lib/python3.10/site-packages (0.12.0)\n",
      "Requirement already satisfied: numpy>=1.17.3 in /home/ec2-user/anaconda3/envs/python3/lib/python3.10/site-packages (from imbalanced-learn) (1.22.4)\n",
      "Requirement already satisfied: scipy>=1.5.0 in /home/ec2-user/anaconda3/envs/python3/lib/python3.10/site-packages (from imbalanced-learn) (1.11.3)\n",
      "Requirement already satisfied: scikit-learn>=1.0.2 in /home/ec2-user/anaconda3/envs/python3/lib/python3.10/site-packages (from imbalanced-learn) (1.3.2)\n",
      "Requirement already satisfied: joblib>=1.1.1 in /home/ec2-user/anaconda3/envs/python3/lib/python3.10/site-packages (from imbalanced-learn) (1.3.2)\n",
      "Requirement already satisfied: threadpoolctl>=2.0.0 in /home/ec2-user/anaconda3/envs/python3/lib/python3.10/site-packages (from imbalanced-learn) (3.2.0)\n"
     ]
    }
   ],
   "source": [
    "!pip install imbalanced-learn"
   ]
  },
  {
   "cell_type": "code",
   "execution_count": 3,
   "id": "58046911-2472-44f6-9176-e42a9e68fd60",
   "metadata": {
    "tags": []
   },
   "outputs": [
    {
     "name": "stderr",
     "output_type": "stream",
     "text": [
      "/home/ec2-user/anaconda3/envs/python3/lib/python3.10/site-packages/pandas/core/computation/expressions.py:21: UserWarning: Pandas requires version '2.8.0' or newer of 'numexpr' (version '2.7.3' currently installed).\n",
      "  from pandas.core.computation.check import NUMEXPR_INSTALLED\n"
     ]
    },
    {
     "name": "stdout",
     "output_type": "stream",
     "text": [
      "sagemaker.config INFO - Not applying SDK defaults from location: /etc/xdg/sagemaker/config.yaml\n",
      "sagemaker.config INFO - Not applying SDK defaults from location: /home/ec2-user/.config/sagemaker/config.yaml\n"
     ]
    }
   ],
   "source": [
    "import io\n",
    "import sagemaker\n",
    "import pandas as pd\n",
    "import numpy as np\n",
    "import matplotlib.pyplot as plt\n",
    "from imblearn.under_sampling import RandomUnderSampler\n",
    "from sklearn.metrics import accuracy_score, confusion_matrix\n",
    "\n",
    "# SageMaker session\n",
    "sagemaker_session = sagemaker.Session()\n",
    "\n",
    "# SageMaker role\n",
    "role = sagemaker.get_execution_role()\n",
    "\n",
    "# S3 bucket\n",
    "bucket = sagemaker_session.default_bucket()\n",
    "\n",
    "# EC2 instance\n",
    "instance_type = \"ml.m5.2xlarge\""
   ]
  },
  {
   "cell_type": "markdown",
   "id": "3c4c78db-1720-4ea9-84bb-83db884c38a2",
   "metadata": {},
   "source": [
    "### 2. Data preparation"
   ]
  },
  {
   "cell_type": "markdown",
   "id": "54e51ac7-b824-412f-94c5-cfa8cbef52a8",
   "metadata": {},
   "source": [
    "#### 2.1 Training dataset"
   ]
  },
  {
   "cell_type": "markdown",
   "id": "c2b66330-3cd8-40d8-bc34-ad002eaea428",
   "metadata": {},
   "source": [
    "Load the training data."
   ]
  },
  {
   "cell_type": "code",
   "execution_count": 4,
   "id": "86317e1e-270f-4d67-b82e-bfefbae2e0d9",
   "metadata": {
    "tags": []
   },
   "outputs": [],
   "source": [
    "training_dataset = pd.read_csv(\"mitbih_train.csv\", header=None)"
   ]
  },
  {
   "cell_type": "code",
   "execution_count": 5,
   "id": "9b800d37-6504-4837-a459-7c4e490f9c22",
   "metadata": {
    "tags": []
   },
   "outputs": [
    {
     "data": {
      "text/plain": [
       "(87554, 188)"
      ]
     },
     "execution_count": 5,
     "metadata": {},
     "output_type": "execute_result"
    }
   ],
   "source": [
    "training_dataset.shape"
   ]
  },
  {
   "cell_type": "code",
   "execution_count": 6,
   "id": "f8e54e99-c839-4f1e-969a-bcbc44aad0ce",
   "metadata": {
    "tags": []
   },
   "outputs": [
    {
     "data": {
      "text/html": [
       "<div>\n",
       "<style scoped>\n",
       "    .dataframe tbody tr th:only-of-type {\n",
       "        vertical-align: middle;\n",
       "    }\n",
       "\n",
       "    .dataframe tbody tr th {\n",
       "        vertical-align: top;\n",
       "    }\n",
       "\n",
       "    .dataframe thead th {\n",
       "        text-align: right;\n",
       "    }\n",
       "</style>\n",
       "<table border=\"1\" class=\"dataframe\">\n",
       "  <thead>\n",
       "    <tr style=\"text-align: right;\">\n",
       "      <th></th>\n",
       "      <th>0</th>\n",
       "      <th>1</th>\n",
       "      <th>2</th>\n",
       "      <th>3</th>\n",
       "      <th>4</th>\n",
       "      <th>5</th>\n",
       "      <th>6</th>\n",
       "      <th>7</th>\n",
       "      <th>8</th>\n",
       "      <th>9</th>\n",
       "      <th>...</th>\n",
       "      <th>178</th>\n",
       "      <th>179</th>\n",
       "      <th>180</th>\n",
       "      <th>181</th>\n",
       "      <th>182</th>\n",
       "      <th>183</th>\n",
       "      <th>184</th>\n",
       "      <th>185</th>\n",
       "      <th>186</th>\n",
       "      <th>187</th>\n",
       "    </tr>\n",
       "  </thead>\n",
       "  <tbody>\n",
       "    <tr>\n",
       "      <th>0</th>\n",
       "      <td>0.977941</td>\n",
       "      <td>0.926471</td>\n",
       "      <td>0.681373</td>\n",
       "      <td>0.245098</td>\n",
       "      <td>0.154412</td>\n",
       "      <td>0.191176</td>\n",
       "      <td>0.151961</td>\n",
       "      <td>0.085784</td>\n",
       "      <td>0.058824</td>\n",
       "      <td>0.049020</td>\n",
       "      <td>...</td>\n",
       "      <td>0.0</td>\n",
       "      <td>0.0</td>\n",
       "      <td>0.0</td>\n",
       "      <td>0.0</td>\n",
       "      <td>0.0</td>\n",
       "      <td>0.0</td>\n",
       "      <td>0.0</td>\n",
       "      <td>0.0</td>\n",
       "      <td>0.0</td>\n",
       "      <td>0.0</td>\n",
       "    </tr>\n",
       "    <tr>\n",
       "      <th>1</th>\n",
       "      <td>0.960114</td>\n",
       "      <td>0.863248</td>\n",
       "      <td>0.461538</td>\n",
       "      <td>0.196581</td>\n",
       "      <td>0.094017</td>\n",
       "      <td>0.125356</td>\n",
       "      <td>0.099715</td>\n",
       "      <td>0.088319</td>\n",
       "      <td>0.074074</td>\n",
       "      <td>0.082621</td>\n",
       "      <td>...</td>\n",
       "      <td>0.0</td>\n",
       "      <td>0.0</td>\n",
       "      <td>0.0</td>\n",
       "      <td>0.0</td>\n",
       "      <td>0.0</td>\n",
       "      <td>0.0</td>\n",
       "      <td>0.0</td>\n",
       "      <td>0.0</td>\n",
       "      <td>0.0</td>\n",
       "      <td>0.0</td>\n",
       "    </tr>\n",
       "    <tr>\n",
       "      <th>2</th>\n",
       "      <td>1.000000</td>\n",
       "      <td>0.659459</td>\n",
       "      <td>0.186486</td>\n",
       "      <td>0.070270</td>\n",
       "      <td>0.070270</td>\n",
       "      <td>0.059459</td>\n",
       "      <td>0.056757</td>\n",
       "      <td>0.043243</td>\n",
       "      <td>0.054054</td>\n",
       "      <td>0.045946</td>\n",
       "      <td>...</td>\n",
       "      <td>0.0</td>\n",
       "      <td>0.0</td>\n",
       "      <td>0.0</td>\n",
       "      <td>0.0</td>\n",
       "      <td>0.0</td>\n",
       "      <td>0.0</td>\n",
       "      <td>0.0</td>\n",
       "      <td>0.0</td>\n",
       "      <td>0.0</td>\n",
       "      <td>0.0</td>\n",
       "    </tr>\n",
       "    <tr>\n",
       "      <th>3</th>\n",
       "      <td>0.925414</td>\n",
       "      <td>0.665746</td>\n",
       "      <td>0.541436</td>\n",
       "      <td>0.276243</td>\n",
       "      <td>0.196133</td>\n",
       "      <td>0.077348</td>\n",
       "      <td>0.071823</td>\n",
       "      <td>0.060773</td>\n",
       "      <td>0.066298</td>\n",
       "      <td>0.058011</td>\n",
       "      <td>...</td>\n",
       "      <td>0.0</td>\n",
       "      <td>0.0</td>\n",
       "      <td>0.0</td>\n",
       "      <td>0.0</td>\n",
       "      <td>0.0</td>\n",
       "      <td>0.0</td>\n",
       "      <td>0.0</td>\n",
       "      <td>0.0</td>\n",
       "      <td>0.0</td>\n",
       "      <td>0.0</td>\n",
       "    </tr>\n",
       "    <tr>\n",
       "      <th>4</th>\n",
       "      <td>0.967136</td>\n",
       "      <td>1.000000</td>\n",
       "      <td>0.830986</td>\n",
       "      <td>0.586854</td>\n",
       "      <td>0.356808</td>\n",
       "      <td>0.248826</td>\n",
       "      <td>0.145540</td>\n",
       "      <td>0.089202</td>\n",
       "      <td>0.117371</td>\n",
       "      <td>0.150235</td>\n",
       "      <td>...</td>\n",
       "      <td>0.0</td>\n",
       "      <td>0.0</td>\n",
       "      <td>0.0</td>\n",
       "      <td>0.0</td>\n",
       "      <td>0.0</td>\n",
       "      <td>0.0</td>\n",
       "      <td>0.0</td>\n",
       "      <td>0.0</td>\n",
       "      <td>0.0</td>\n",
       "      <td>0.0</td>\n",
       "    </tr>\n",
       "  </tbody>\n",
       "</table>\n",
       "<p>5 rows × 188 columns</p>\n",
       "</div>"
      ],
      "text/plain": [
       "        0         1         2         3         4         5         6    \\\n",
       "0  0.977941  0.926471  0.681373  0.245098  0.154412  0.191176  0.151961   \n",
       "1  0.960114  0.863248  0.461538  0.196581  0.094017  0.125356  0.099715   \n",
       "2  1.000000  0.659459  0.186486  0.070270  0.070270  0.059459  0.056757   \n",
       "3  0.925414  0.665746  0.541436  0.276243  0.196133  0.077348  0.071823   \n",
       "4  0.967136  1.000000  0.830986  0.586854  0.356808  0.248826  0.145540   \n",
       "\n",
       "        7         8         9    ...  178  179  180  181  182  183  184  185  \\\n",
       "0  0.085784  0.058824  0.049020  ...  0.0  0.0  0.0  0.0  0.0  0.0  0.0  0.0   \n",
       "1  0.088319  0.074074  0.082621  ...  0.0  0.0  0.0  0.0  0.0  0.0  0.0  0.0   \n",
       "2  0.043243  0.054054  0.045946  ...  0.0  0.0  0.0  0.0  0.0  0.0  0.0  0.0   \n",
       "3  0.060773  0.066298  0.058011  ...  0.0  0.0  0.0  0.0  0.0  0.0  0.0  0.0   \n",
       "4  0.089202  0.117371  0.150235  ...  0.0  0.0  0.0  0.0  0.0  0.0  0.0  0.0   \n",
       "\n",
       "   186  187  \n",
       "0  0.0  0.0  \n",
       "1  0.0  0.0  \n",
       "2  0.0  0.0  \n",
       "3  0.0  0.0  \n",
       "4  0.0  0.0  \n",
       "\n",
       "[5 rows x 188 columns]"
      ]
     },
     "execution_count": 6,
     "metadata": {},
     "output_type": "execute_result"
    }
   ],
   "source": [
    "training_dataset.head()"
   ]
  },
  {
   "cell_type": "code",
   "execution_count": 7,
   "id": "cb3201d0-8e13-4dff-8e94-d3464d629233",
   "metadata": {
    "tags": []
   },
   "outputs": [
    {
     "data": {
      "text/plain": [
       "array([0., 1., 2., 3., 4.])"
      ]
     },
     "execution_count": 7,
     "metadata": {},
     "output_type": "execute_result"
    }
   ],
   "source": [
    "training_dataset.iloc[:, -1].sort_values().unique()"
   ]
  },
  {
   "cell_type": "code",
   "execution_count": 8,
   "id": "066fed53-e6b0-4730-acb0-35aa9fe57cd9",
   "metadata": {
    "tags": []
   },
   "outputs": [
    {
     "data": {
      "text/plain": [
       "0.0    72471\n",
       "1.0     2223\n",
       "2.0     5788\n",
       "3.0      641\n",
       "4.0     6431\n",
       "Name: count, dtype: int64"
      ]
     },
     "execution_count": 8,
     "metadata": {},
     "output_type": "execute_result"
    }
   ],
   "source": [
    "training_dataset.iloc[:, -1].rename(None).value_counts().sort_index()"
   ]
  },
  {
   "cell_type": "markdown",
   "id": "b51c5f6b-c92c-4ee8-9314-0e751c0f81f3",
   "metadata": {},
   "source": [
    "Resample the training data."
   ]
  },
  {
   "cell_type": "code",
   "execution_count": 9,
   "id": "06d2ec73-8314-40e4-a0ec-62f30c0d06b3",
   "metadata": {
    "tags": []
   },
   "outputs": [],
   "source": [
    "sampler = RandomUnderSampler(random_state=42)\n",
    "training_dataset = pd.concat(sampler.fit_resample(X=training_dataset.iloc[:, :-1], y=training_dataset.iloc[:, -1:]), axis=1)"
   ]
  },
  {
   "cell_type": "code",
   "execution_count": 10,
   "id": "f09779c4-5f5f-442d-a5a2-0a01b92ba014",
   "metadata": {
    "tags": []
   },
   "outputs": [
    {
     "data": {
      "text/plain": [
       "(3205, 188)"
      ]
     },
     "execution_count": 10,
     "metadata": {},
     "output_type": "execute_result"
    }
   ],
   "source": [
    "training_dataset.shape"
   ]
  },
  {
   "cell_type": "code",
   "execution_count": 11,
   "id": "cc6f25a5-9ce2-45f3-97d1-84f8c0cc565e",
   "metadata": {},
   "outputs": [
    {
     "data": {
      "text/html": [
       "<div>\n",
       "<style scoped>\n",
       "    .dataframe tbody tr th:only-of-type {\n",
       "        vertical-align: middle;\n",
       "    }\n",
       "\n",
       "    .dataframe tbody tr th {\n",
       "        vertical-align: top;\n",
       "    }\n",
       "\n",
       "    .dataframe thead th {\n",
       "        text-align: right;\n",
       "    }\n",
       "</style>\n",
       "<table border=\"1\" class=\"dataframe\">\n",
       "  <thead>\n",
       "    <tr style=\"text-align: right;\">\n",
       "      <th></th>\n",
       "      <th>0</th>\n",
       "      <th>1</th>\n",
       "      <th>2</th>\n",
       "      <th>3</th>\n",
       "      <th>4</th>\n",
       "      <th>5</th>\n",
       "      <th>6</th>\n",
       "      <th>7</th>\n",
       "      <th>8</th>\n",
       "      <th>9</th>\n",
       "      <th>...</th>\n",
       "      <th>178</th>\n",
       "      <th>179</th>\n",
       "      <th>180</th>\n",
       "      <th>181</th>\n",
       "      <th>182</th>\n",
       "      <th>183</th>\n",
       "      <th>184</th>\n",
       "      <th>185</th>\n",
       "      <th>186</th>\n",
       "      <th>187</th>\n",
       "    </tr>\n",
       "  </thead>\n",
       "  <tbody>\n",
       "    <tr>\n",
       "      <th>10153</th>\n",
       "      <td>0.162791</td>\n",
       "      <td>0.540698</td>\n",
       "      <td>0.755814</td>\n",
       "      <td>0.186047</td>\n",
       "      <td>0.168605</td>\n",
       "      <td>0.546512</td>\n",
       "      <td>0.616279</td>\n",
       "      <td>0.697674</td>\n",
       "      <td>0.651163</td>\n",
       "      <td>0.703488</td>\n",
       "      <td>...</td>\n",
       "      <td>0.0</td>\n",
       "      <td>0.0</td>\n",
       "      <td>0.0</td>\n",
       "      <td>0.0</td>\n",
       "      <td>0.0</td>\n",
       "      <td>0.0</td>\n",
       "      <td>0.0</td>\n",
       "      <td>0.0</td>\n",
       "      <td>0.0</td>\n",
       "      <td>0.0</td>\n",
       "    </tr>\n",
       "    <tr>\n",
       "      <th>33886</th>\n",
       "      <td>0.990066</td>\n",
       "      <td>0.938742</td>\n",
       "      <td>0.344371</td>\n",
       "      <td>0.034768</td>\n",
       "      <td>0.273179</td>\n",
       "      <td>0.331126</td>\n",
       "      <td>0.326159</td>\n",
       "      <td>0.341060</td>\n",
       "      <td>0.347682</td>\n",
       "      <td>0.347682</td>\n",
       "      <td>...</td>\n",
       "      <td>0.0</td>\n",
       "      <td>0.0</td>\n",
       "      <td>0.0</td>\n",
       "      <td>0.0</td>\n",
       "      <td>0.0</td>\n",
       "      <td>0.0</td>\n",
       "      <td>0.0</td>\n",
       "      <td>0.0</td>\n",
       "      <td>0.0</td>\n",
       "      <td>0.0</td>\n",
       "    </tr>\n",
       "    <tr>\n",
       "      <th>32005</th>\n",
       "      <td>0.974239</td>\n",
       "      <td>0.932084</td>\n",
       "      <td>0.590164</td>\n",
       "      <td>0.131148</td>\n",
       "      <td>0.014052</td>\n",
       "      <td>0.168618</td>\n",
       "      <td>0.238876</td>\n",
       "      <td>0.210773</td>\n",
       "      <td>0.196721</td>\n",
       "      <td>0.208431</td>\n",
       "      <td>...</td>\n",
       "      <td>0.0</td>\n",
       "      <td>0.0</td>\n",
       "      <td>0.0</td>\n",
       "      <td>0.0</td>\n",
       "      <td>0.0</td>\n",
       "      <td>0.0</td>\n",
       "      <td>0.0</td>\n",
       "      <td>0.0</td>\n",
       "      <td>0.0</td>\n",
       "      <td>0.0</td>\n",
       "    </tr>\n",
       "    <tr>\n",
       "      <th>56159</th>\n",
       "      <td>0.978495</td>\n",
       "      <td>0.723118</td>\n",
       "      <td>0.526882</td>\n",
       "      <td>0.298387</td>\n",
       "      <td>0.220430</td>\n",
       "      <td>0.158602</td>\n",
       "      <td>0.091398</td>\n",
       "      <td>0.091398</td>\n",
       "      <td>0.080645</td>\n",
       "      <td>0.083333</td>\n",
       "      <td>...</td>\n",
       "      <td>0.0</td>\n",
       "      <td>0.0</td>\n",
       "      <td>0.0</td>\n",
       "      <td>0.0</td>\n",
       "      <td>0.0</td>\n",
       "      <td>0.0</td>\n",
       "      <td>0.0</td>\n",
       "      <td>0.0</td>\n",
       "      <td>0.0</td>\n",
       "      <td>0.0</td>\n",
       "    </tr>\n",
       "    <tr>\n",
       "      <th>61783</th>\n",
       "      <td>0.963351</td>\n",
       "      <td>0.709424</td>\n",
       "      <td>0.060209</td>\n",
       "      <td>0.013089</td>\n",
       "      <td>0.057592</td>\n",
       "      <td>0.041885</td>\n",
       "      <td>0.047120</td>\n",
       "      <td>0.034031</td>\n",
       "      <td>0.039267</td>\n",
       "      <td>0.044503</td>\n",
       "      <td>...</td>\n",
       "      <td>0.0</td>\n",
       "      <td>0.0</td>\n",
       "      <td>0.0</td>\n",
       "      <td>0.0</td>\n",
       "      <td>0.0</td>\n",
       "      <td>0.0</td>\n",
       "      <td>0.0</td>\n",
       "      <td>0.0</td>\n",
       "      <td>0.0</td>\n",
       "      <td>0.0</td>\n",
       "    </tr>\n",
       "  </tbody>\n",
       "</table>\n",
       "<p>5 rows × 188 columns</p>\n",
       "</div>"
      ],
      "text/plain": [
       "            0         1         2         3         4         5         6    \\\n",
       "10153  0.162791  0.540698  0.755814  0.186047  0.168605  0.546512  0.616279   \n",
       "33886  0.990066  0.938742  0.344371  0.034768  0.273179  0.331126  0.326159   \n",
       "32005  0.974239  0.932084  0.590164  0.131148  0.014052  0.168618  0.238876   \n",
       "56159  0.978495  0.723118  0.526882  0.298387  0.220430  0.158602  0.091398   \n",
       "61783  0.963351  0.709424  0.060209  0.013089  0.057592  0.041885  0.047120   \n",
       "\n",
       "            7         8         9    ...  178  179  180  181  182  183  184  \\\n",
       "10153  0.697674  0.651163  0.703488  ...  0.0  0.0  0.0  0.0  0.0  0.0  0.0   \n",
       "33886  0.341060  0.347682  0.347682  ...  0.0  0.0  0.0  0.0  0.0  0.0  0.0   \n",
       "32005  0.210773  0.196721  0.208431  ...  0.0  0.0  0.0  0.0  0.0  0.0  0.0   \n",
       "56159  0.091398  0.080645  0.083333  ...  0.0  0.0  0.0  0.0  0.0  0.0  0.0   \n",
       "61783  0.034031  0.039267  0.044503  ...  0.0  0.0  0.0  0.0  0.0  0.0  0.0   \n",
       "\n",
       "       185  186  187  \n",
       "10153  0.0  0.0  0.0  \n",
       "33886  0.0  0.0  0.0  \n",
       "32005  0.0  0.0  0.0  \n",
       "56159  0.0  0.0  0.0  \n",
       "61783  0.0  0.0  0.0  \n",
       "\n",
       "[5 rows x 188 columns]"
      ]
     },
     "execution_count": 11,
     "metadata": {},
     "output_type": "execute_result"
    }
   ],
   "source": [
    "training_dataset.head()"
   ]
  },
  {
   "cell_type": "code",
   "execution_count": 12,
   "id": "2c583f15-ed7b-4f39-b32e-b2bd4ea32c97",
   "metadata": {},
   "outputs": [
    {
     "data": {
      "text/plain": [
       "array([0., 1., 2., 3., 4.])"
      ]
     },
     "execution_count": 12,
     "metadata": {},
     "output_type": "execute_result"
    }
   ],
   "source": [
    "training_dataset.iloc[:, -1].sort_values().unique()"
   ]
  },
  {
   "cell_type": "code",
   "execution_count": 13,
   "id": "cbc411eb-0224-4bdc-83a0-c437d82fc212",
   "metadata": {
    "tags": []
   },
   "outputs": [
    {
     "data": {
      "text/plain": [
       "0.0    641\n",
       "1.0    641\n",
       "2.0    641\n",
       "3.0    641\n",
       "4.0    641\n",
       "Name: count, dtype: int64"
      ]
     },
     "execution_count": 13,
     "metadata": {},
     "output_type": "execute_result"
    }
   ],
   "source": [
    "training_dataset.iloc[:, -1].rename(None).value_counts().sort_index()"
   ]
  },
  {
   "cell_type": "markdown",
   "id": "c07750a9-f964-41e1-87a5-6a3ec82288b9",
   "metadata": {
    "tags": []
   },
   "source": [
    "Move the class labels to the first column."
   ]
  },
  {
   "cell_type": "code",
   "execution_count": 14,
   "id": "2053187d-0fb1-44a7-8494-5234c400c59c",
   "metadata": {
    "tags": []
   },
   "outputs": [],
   "source": [
    "training_dataset = pd.concat([training_dataset.iloc[:, -1:], training_dataset.iloc[:, 1:]], axis=1)"
   ]
  },
  {
   "cell_type": "markdown",
   "id": "0b4d30df-b80a-46ef-aa09-0fe00b52972d",
   "metadata": {},
   "source": [
    "Upload the training data to S3."
   ]
  },
  {
   "cell_type": "code",
   "execution_count": 15,
   "id": "665d878e-fc2c-4dfe-a003-8161c39fcb71",
   "metadata": {
    "tags": []
   },
   "outputs": [],
   "source": [
    "training_data = sagemaker_session.upload_string_as_file_body(\n",
    "    body=training_dataset.to_csv(index=False, header=False),\n",
    "    bucket=bucket,\n",
    "    key=\"MITBIH_train.csv\"\n",
    ")"
   ]
  },
  {
   "cell_type": "code",
   "execution_count": 16,
   "id": "8f8b2f05-ca0f-4a7b-ae5b-c6f17d494953",
   "metadata": {
    "tags": []
   },
   "outputs": [
    {
     "data": {
      "text/plain": [
       "'s3://sagemaker-eu-west-1-661670223746/MITBIH_train.csv'"
      ]
     },
     "execution_count": 16,
     "metadata": {},
     "output_type": "execute_result"
    }
   ],
   "source": [
    "training_data"
   ]
  },
  {
   "cell_type": "markdown",
   "id": "3d7a5bde-ec32-4b95-874c-c3060c487852",
   "metadata": {},
   "source": [
    "#### 2.2 Test dataset"
   ]
  },
  {
   "cell_type": "markdown",
   "id": "bce8671f-38db-438e-81fc-08eee77778f7",
   "metadata": {},
   "source": [
    "Load the test data."
   ]
  },
  {
   "cell_type": "code",
   "execution_count": 17,
   "id": "bddf25bb-c94b-4ded-b2d3-b8f289e9c9f2",
   "metadata": {
    "tags": []
   },
   "outputs": [],
   "source": [
    "test_dataset = pd.read_csv(\"mitbih_test.csv\", header=None)"
   ]
  },
  {
   "cell_type": "code",
   "execution_count": 18,
   "id": "8b7ed159-3307-4d95-ba9e-0a1d6f6132cf",
   "metadata": {},
   "outputs": [
    {
     "data": {
      "text/plain": [
       "(21892, 188)"
      ]
     },
     "execution_count": 18,
     "metadata": {},
     "output_type": "execute_result"
    }
   ],
   "source": [
    "test_dataset.shape"
   ]
  },
  {
   "cell_type": "code",
   "execution_count": 19,
   "id": "e3ea8757-4b9b-4ecf-ac63-6071cba08057",
   "metadata": {
    "tags": []
   },
   "outputs": [
    {
     "data": {
      "text/html": [
       "<div>\n",
       "<style scoped>\n",
       "    .dataframe tbody tr th:only-of-type {\n",
       "        vertical-align: middle;\n",
       "    }\n",
       "\n",
       "    .dataframe tbody tr th {\n",
       "        vertical-align: top;\n",
       "    }\n",
       "\n",
       "    .dataframe thead th {\n",
       "        text-align: right;\n",
       "    }\n",
       "</style>\n",
       "<table border=\"1\" class=\"dataframe\">\n",
       "  <thead>\n",
       "    <tr style=\"text-align: right;\">\n",
       "      <th></th>\n",
       "      <th>0</th>\n",
       "      <th>1</th>\n",
       "      <th>2</th>\n",
       "      <th>3</th>\n",
       "      <th>4</th>\n",
       "      <th>5</th>\n",
       "      <th>6</th>\n",
       "      <th>7</th>\n",
       "      <th>8</th>\n",
       "      <th>9</th>\n",
       "      <th>...</th>\n",
       "      <th>178</th>\n",
       "      <th>179</th>\n",
       "      <th>180</th>\n",
       "      <th>181</th>\n",
       "      <th>182</th>\n",
       "      <th>183</th>\n",
       "      <th>184</th>\n",
       "      <th>185</th>\n",
       "      <th>186</th>\n",
       "      <th>187</th>\n",
       "    </tr>\n",
       "  </thead>\n",
       "  <tbody>\n",
       "    <tr>\n",
       "      <th>0</th>\n",
       "      <td>1.000000</td>\n",
       "      <td>0.758264</td>\n",
       "      <td>0.111570</td>\n",
       "      <td>0.000000</td>\n",
       "      <td>0.080579</td>\n",
       "      <td>0.078512</td>\n",
       "      <td>0.066116</td>\n",
       "      <td>0.049587</td>\n",
       "      <td>0.047521</td>\n",
       "      <td>0.035124</td>\n",
       "      <td>...</td>\n",
       "      <td>0.0</td>\n",
       "      <td>0.0</td>\n",
       "      <td>0.0</td>\n",
       "      <td>0.0</td>\n",
       "      <td>0.0</td>\n",
       "      <td>0.0</td>\n",
       "      <td>0.0</td>\n",
       "      <td>0.0</td>\n",
       "      <td>0.0</td>\n",
       "      <td>0.0</td>\n",
       "    </tr>\n",
       "    <tr>\n",
       "      <th>1</th>\n",
       "      <td>0.908425</td>\n",
       "      <td>0.783883</td>\n",
       "      <td>0.531136</td>\n",
       "      <td>0.362637</td>\n",
       "      <td>0.366300</td>\n",
       "      <td>0.344322</td>\n",
       "      <td>0.333333</td>\n",
       "      <td>0.307692</td>\n",
       "      <td>0.296703</td>\n",
       "      <td>0.300366</td>\n",
       "      <td>...</td>\n",
       "      <td>0.0</td>\n",
       "      <td>0.0</td>\n",
       "      <td>0.0</td>\n",
       "      <td>0.0</td>\n",
       "      <td>0.0</td>\n",
       "      <td>0.0</td>\n",
       "      <td>0.0</td>\n",
       "      <td>0.0</td>\n",
       "      <td>0.0</td>\n",
       "      <td>0.0</td>\n",
       "    </tr>\n",
       "    <tr>\n",
       "      <th>2</th>\n",
       "      <td>0.730088</td>\n",
       "      <td>0.212389</td>\n",
       "      <td>0.000000</td>\n",
       "      <td>0.119469</td>\n",
       "      <td>0.101770</td>\n",
       "      <td>0.101770</td>\n",
       "      <td>0.110619</td>\n",
       "      <td>0.123894</td>\n",
       "      <td>0.115044</td>\n",
       "      <td>0.132743</td>\n",
       "      <td>...</td>\n",
       "      <td>0.0</td>\n",
       "      <td>0.0</td>\n",
       "      <td>0.0</td>\n",
       "      <td>0.0</td>\n",
       "      <td>0.0</td>\n",
       "      <td>0.0</td>\n",
       "      <td>0.0</td>\n",
       "      <td>0.0</td>\n",
       "      <td>0.0</td>\n",
       "      <td>0.0</td>\n",
       "    </tr>\n",
       "    <tr>\n",
       "      <th>3</th>\n",
       "      <td>1.000000</td>\n",
       "      <td>0.910417</td>\n",
       "      <td>0.681250</td>\n",
       "      <td>0.472917</td>\n",
       "      <td>0.229167</td>\n",
       "      <td>0.068750</td>\n",
       "      <td>0.000000</td>\n",
       "      <td>0.004167</td>\n",
       "      <td>0.014583</td>\n",
       "      <td>0.054167</td>\n",
       "      <td>...</td>\n",
       "      <td>0.0</td>\n",
       "      <td>0.0</td>\n",
       "      <td>0.0</td>\n",
       "      <td>0.0</td>\n",
       "      <td>0.0</td>\n",
       "      <td>0.0</td>\n",
       "      <td>0.0</td>\n",
       "      <td>0.0</td>\n",
       "      <td>0.0</td>\n",
       "      <td>0.0</td>\n",
       "    </tr>\n",
       "    <tr>\n",
       "      <th>4</th>\n",
       "      <td>0.570470</td>\n",
       "      <td>0.399329</td>\n",
       "      <td>0.238255</td>\n",
       "      <td>0.147651</td>\n",
       "      <td>0.000000</td>\n",
       "      <td>0.003356</td>\n",
       "      <td>0.040268</td>\n",
       "      <td>0.080537</td>\n",
       "      <td>0.070470</td>\n",
       "      <td>0.090604</td>\n",
       "      <td>...</td>\n",
       "      <td>0.0</td>\n",
       "      <td>0.0</td>\n",
       "      <td>0.0</td>\n",
       "      <td>0.0</td>\n",
       "      <td>0.0</td>\n",
       "      <td>0.0</td>\n",
       "      <td>0.0</td>\n",
       "      <td>0.0</td>\n",
       "      <td>0.0</td>\n",
       "      <td>0.0</td>\n",
       "    </tr>\n",
       "  </tbody>\n",
       "</table>\n",
       "<p>5 rows × 188 columns</p>\n",
       "</div>"
      ],
      "text/plain": [
       "        0         1         2         3         4         5         6    \\\n",
       "0  1.000000  0.758264  0.111570  0.000000  0.080579  0.078512  0.066116   \n",
       "1  0.908425  0.783883  0.531136  0.362637  0.366300  0.344322  0.333333   \n",
       "2  0.730088  0.212389  0.000000  0.119469  0.101770  0.101770  0.110619   \n",
       "3  1.000000  0.910417  0.681250  0.472917  0.229167  0.068750  0.000000   \n",
       "4  0.570470  0.399329  0.238255  0.147651  0.000000  0.003356  0.040268   \n",
       "\n",
       "        7         8         9    ...  178  179  180  181  182  183  184  185  \\\n",
       "0  0.049587  0.047521  0.035124  ...  0.0  0.0  0.0  0.0  0.0  0.0  0.0  0.0   \n",
       "1  0.307692  0.296703  0.300366  ...  0.0  0.0  0.0  0.0  0.0  0.0  0.0  0.0   \n",
       "2  0.123894  0.115044  0.132743  ...  0.0  0.0  0.0  0.0  0.0  0.0  0.0  0.0   \n",
       "3  0.004167  0.014583  0.054167  ...  0.0  0.0  0.0  0.0  0.0  0.0  0.0  0.0   \n",
       "4  0.080537  0.070470  0.090604  ...  0.0  0.0  0.0  0.0  0.0  0.0  0.0  0.0   \n",
       "\n",
       "   186  187  \n",
       "0  0.0  0.0  \n",
       "1  0.0  0.0  \n",
       "2  0.0  0.0  \n",
       "3  0.0  0.0  \n",
       "4  0.0  0.0  \n",
       "\n",
       "[5 rows x 188 columns]"
      ]
     },
     "execution_count": 19,
     "metadata": {},
     "output_type": "execute_result"
    }
   ],
   "source": [
    "test_dataset.head()"
   ]
  },
  {
   "cell_type": "code",
   "execution_count": 20,
   "id": "5bcda5b7-bc86-4dc4-8f2d-6667963d3e13",
   "metadata": {
    "tags": []
   },
   "outputs": [
    {
     "data": {
      "text/plain": [
       "array([0., 1., 2., 3., 4.])"
      ]
     },
     "execution_count": 20,
     "metadata": {},
     "output_type": "execute_result"
    }
   ],
   "source": [
    "test_dataset.iloc[:, -1].sort_values().unique()"
   ]
  },
  {
   "cell_type": "code",
   "execution_count": 21,
   "id": "3cfa8968-1177-422e-842a-5c61ef37de8c",
   "metadata": {
    "tags": []
   },
   "outputs": [
    {
     "data": {
      "text/plain": [
       "0.0    18118\n",
       "1.0      556\n",
       "2.0     1448\n",
       "3.0      162\n",
       "4.0     1608\n",
       "Name: count, dtype: int64"
      ]
     },
     "execution_count": 21,
     "metadata": {},
     "output_type": "execute_result"
    }
   ],
   "source": [
    "test_dataset.iloc[:, -1].rename(None).value_counts().sort_index()"
   ]
  },
  {
   "cell_type": "markdown",
   "id": "d9b41ca9-4ec1-419e-922f-78daafe36a89",
   "metadata": {
    "tags": []
   },
   "source": [
    "Move the class labels to the first column."
   ]
  },
  {
   "cell_type": "code",
   "execution_count": 22,
   "id": "aa911a04-2629-4ff1-a895-a77c40c66ca9",
   "metadata": {
    "tags": []
   },
   "outputs": [],
   "source": [
    "test_dataset = pd.concat([test_dataset.iloc[:, -1:], test_dataset.iloc[:, 1:]], axis=1)"
   ]
  },
  {
   "cell_type": "markdown",
   "id": "78431fff-b47a-4d1c-8ede-4ae60e5304bd",
   "metadata": {},
   "source": [
    "Upload the test data to S3, make sure to remove the first column with the class labels."
   ]
  },
  {
   "cell_type": "code",
   "execution_count": 23,
   "id": "31ea6d63-78aa-4b61-b9a0-a905035af567",
   "metadata": {
    "tags": []
   },
   "outputs": [],
   "source": [
    "test_data = sagemaker_session.upload_string_as_file_body(\n",
    "    body=test_dataset.iloc[:, 1:].to_csv(index=False, header=False),\n",
    "    bucket=bucket,\n",
    "    key=\"MITBIH_test.csv\"\n",
    ")"
   ]
  },
  {
   "cell_type": "code",
   "execution_count": 24,
   "id": "f635a2f3-9353-45de-8c5b-e1710e1e881f",
   "metadata": {
    "tags": []
   },
   "outputs": [
    {
     "data": {
      "text/plain": [
       "'s3://sagemaker-eu-west-1-661670223746/MITBIH_test.csv'"
      ]
     },
     "execution_count": 24,
     "metadata": {},
     "output_type": "execute_result"
    }
   ],
   "source": [
    "test_data"
   ]
  },
  {
   "cell_type": "markdown",
   "id": "1221ffc7-c48b-4f19-8126-7b65f3b5bf51",
   "metadata": {
    "tags": []
   },
   "source": [
    "### 3. Training"
   ]
  },
  {
   "cell_type": "markdown",
   "id": "6f0b110a-ffba-4a2f-8853-eeec7ac0c9c8",
   "metadata": {},
   "source": [
    "Fit the model to the training data."
   ]
  },
  {
   "cell_type": "code",
   "execution_count": 25,
   "id": "ca03e1de-5695-40ae-a4f3-1d658e7f5b4b",
   "metadata": {
    "tags": []
   },
   "outputs": [
    {
     "name": "stderr",
     "output_type": "stream",
     "text": [
      "INFO:sagemaker:Creating training-job with name: lstm-fcn-v1-14-2024-03-05-16-20-01-652\n"
     ]
    },
    {
     "name": "stdout",
     "output_type": "stream",
     "text": [
      "2024-03-05 16:20:01 Starting - Starting the training job...\n",
      "2024-03-05 16:20:18 Starting - Preparing the instances for training......\n",
      "2024-03-05 16:21:14 Downloading - Downloading input data...\n",
      "2024-03-05 16:21:45 Downloading - Downloading the training image...............\n",
      "2024-03-05 16:24:06 Training - Training image download completed. Training in progress..\u001b[34mbash: cannot set terminal process group (-1): Inappropriate ioctl for device\u001b[0m\n",
      "\u001b[34mbash: no job control in this shell\u001b[0m\n",
      "\u001b[34m2024-03-05 16:24:31,487 sagemaker-training-toolkit INFO     Imported framework sagemaker_pytorch_container.training\u001b[0m\n",
      "\u001b[34m2024-03-05 16:24:31,488 sagemaker-training-toolkit INFO     No GPUs detected (normal if no gpus installed)\u001b[0m\n",
      "\u001b[34m2024-03-05 16:24:31,489 sagemaker-training-toolkit INFO     No Neurons detected (normal if no neurons installed)\u001b[0m\n",
      "\u001b[34m2024-03-05 16:24:31,499 sagemaker_pytorch_container.training INFO     Block until all host DNS lookups succeed.\u001b[0m\n",
      "\u001b[34m2024-03-05 16:24:31,501 sagemaker_pytorch_container.training INFO     Invoking user training script.\u001b[0m\n",
      "\u001b[34m2024-03-05 16:24:32,943 sagemaker-training-toolkit INFO     No GPUs detected (normal if no gpus installed)\u001b[0m\n",
      "\u001b[34m2024-03-05 16:24:32,943 sagemaker-training-toolkit INFO     No Neurons detected (normal if no neurons installed)\u001b[0m\n",
      "\u001b[34m2024-03-05 16:24:32,955 sagemaker-training-toolkit INFO     No GPUs detected (normal if no gpus installed)\u001b[0m\n",
      "\u001b[34m2024-03-05 16:24:32,955 sagemaker-training-toolkit INFO     No Neurons detected (normal if no neurons installed)\u001b[0m\n",
      "\u001b[34m2024-03-05 16:24:32,967 sagemaker-training-toolkit INFO     No GPUs detected (normal if no gpus installed)\u001b[0m\n",
      "\u001b[34m2024-03-05 16:24:32,967 sagemaker-training-toolkit INFO     No Neurons detected (normal if no neurons installed)\u001b[0m\n",
      "\u001b[34m2024-03-05 16:24:32,978 sagemaker-training-toolkit INFO     Invoking user script\u001b[0m\n",
      "\u001b[34mTraining Env:\u001b[0m\n",
      "\u001b[34m{\n",
      "    \"additional_framework_parameters\": {},\n",
      "    \"channel_input_dirs\": {\n",
      "        \"training\": \"/opt/ml/input/data/training\"\n",
      "    },\n",
      "    \"current_host\": \"algo-1\",\n",
      "    \"current_instance_group\": \"homogeneousCluster\",\n",
      "    \"current_instance_group_hosts\": [\n",
      "        \"algo-1\"\n",
      "    ],\n",
      "    \"current_instance_type\": \"ml.m5.2xlarge\",\n",
      "    \"distribution_hosts\": [],\n",
      "    \"distribution_instance_groups\": [],\n",
      "    \"framework_module\": \"sagemaker_pytorch_container.training:main\",\n",
      "    \"hosts\": [\n",
      "        \"algo-1\"\n",
      "    ],\n",
      "    \"hyperparameters\": {\n",
      "        \"batch-size\": 256,\n",
      "        \"dropout\": 0.8,\n",
      "        \"epochs\": 100,\n",
      "        \"filters-1\": 128,\n",
      "        \"filters-2\": 256,\n",
      "        \"filters-3\": 128,\n",
      "        \"hidden-size\": 128,\n",
      "        \"kernel-size-1\": 8,\n",
      "        \"kernel-size-2\": 5,\n",
      "        \"kernel-size-3\": 3,\n",
      "        \"lr\": 0.001,\n",
      "        \"num-layers\": 1\n",
      "    },\n",
      "    \"input_config_dir\": \"/opt/ml/input/config\",\n",
      "    \"input_data_config\": {\n",
      "        \"training\": {\n",
      "            \"TrainingInputMode\": \"File\",\n",
      "            \"S3DistributionType\": \"FullyReplicated\",\n",
      "            \"RecordWrapperType\": \"None\"\n",
      "        }\n",
      "    },\n",
      "    \"input_dir\": \"/opt/ml/input\",\n",
      "    \"instance_groups\": [\n",
      "        \"homogeneousCluster\"\n",
      "    ],\n",
      "    \"instance_groups_dict\": {\n",
      "        \"homogeneousCluster\": {\n",
      "            \"instance_group_name\": \"homogeneousCluster\",\n",
      "            \"instance_type\": \"ml.m5.2xlarge\",\n",
      "            \"hosts\": [\n",
      "                \"algo-1\"\n",
      "            ]\n",
      "        }\n",
      "    },\n",
      "    \"is_hetero\": false,\n",
      "    \"is_master\": true,\n",
      "    \"is_modelparallel_enabled\": null,\n",
      "    \"is_smddpmprun_installed\": false,\n",
      "    \"is_smddprun_installed\": false,\n",
      "    \"job_name\": \"lstm-fcn-v1-14-2024-03-05-16-20-01-652\",\n",
      "    \"log_level\": 20,\n",
      "    \"master_hostname\": \"algo-1\",\n",
      "    \"model_dir\": \"/opt/ml/model\",\n",
      "    \"module_dir\": \"/opt/ml/code\",\n",
      "    \"module_name\": \"training\",\n",
      "    \"network_interface_name\": \"eth0\",\n",
      "    \"num_cpus\": 8,\n",
      "    \"num_gpus\": 0,\n",
      "    \"num_neurons\": 0,\n",
      "    \"output_data_dir\": \"/opt/ml/output/data\",\n",
      "    \"output_dir\": \"/opt/ml/output\",\n",
      "    \"output_intermediate_dir\": \"/opt/ml/output/intermediate\",\n",
      "    \"resource_config\": {\n",
      "        \"current_host\": \"algo-1\",\n",
      "        \"current_instance_type\": \"ml.m5.2xlarge\",\n",
      "        \"current_group_name\": \"homogeneousCluster\",\n",
      "        \"hosts\": [\n",
      "            \"algo-1\"\n",
      "        ],\n",
      "        \"instance_groups\": [\n",
      "            {\n",
      "                \"instance_group_name\": \"homogeneousCluster\",\n",
      "                \"instance_type\": \"ml.m5.2xlarge\",\n",
      "                \"hosts\": [\n",
      "                    \"algo-1\"\n",
      "                ]\n",
      "            }\n",
      "        ],\n",
      "        \"network_interface_name\": \"eth0\"\n",
      "    },\n",
      "    \"user_entry_point\": \"training.py\"\u001b[0m\n",
      "\u001b[34m}\u001b[0m\n",
      "\u001b[34mEnvironment variables:\u001b[0m\n",
      "\u001b[34mSM_HOSTS=[\"algo-1\"]\u001b[0m\n",
      "\u001b[34mSM_NETWORK_INTERFACE_NAME=eth0\u001b[0m\n",
      "\u001b[34mSM_HPS={\"batch-size\":256,\"dropout\":0.8,\"epochs\":100,\"filters-1\":128,\"filters-2\":256,\"filters-3\":128,\"hidden-size\":128,\"kernel-size-1\":8,\"kernel-size-2\":5,\"kernel-size-3\":3,\"lr\":0.001,\"num-layers\":1}\u001b[0m\n",
      "\u001b[34mSM_USER_ENTRY_POINT=training.py\u001b[0m\n",
      "\u001b[34mSM_FRAMEWORK_PARAMS={}\u001b[0m\n",
      "\u001b[34mSM_RESOURCE_CONFIG={\"current_group_name\":\"homogeneousCluster\",\"current_host\":\"algo-1\",\"current_instance_type\":\"ml.m5.2xlarge\",\"hosts\":[\"algo-1\"],\"instance_groups\":[{\"hosts\":[\"algo-1\"],\"instance_group_name\":\"homogeneousCluster\",\"instance_type\":\"ml.m5.2xlarge\"}],\"network_interface_name\":\"eth0\"}\u001b[0m\n",
      "\u001b[34mSM_INPUT_DATA_CONFIG={\"training\":{\"RecordWrapperType\":\"None\",\"S3DistributionType\":\"FullyReplicated\",\"TrainingInputMode\":\"File\"}}\u001b[0m\n",
      "\u001b[34mSM_OUTPUT_DATA_DIR=/opt/ml/output/data\u001b[0m\n",
      "\u001b[34mSM_CHANNELS=[\"training\"]\u001b[0m\n",
      "\u001b[34mSM_CURRENT_HOST=algo-1\u001b[0m\n",
      "\u001b[34mSM_CURRENT_INSTANCE_TYPE=ml.m5.2xlarge\u001b[0m\n",
      "\u001b[34mSM_CURRENT_INSTANCE_GROUP=homogeneousCluster\u001b[0m\n",
      "\u001b[34mSM_CURRENT_INSTANCE_GROUP_HOSTS=[\"algo-1\"]\u001b[0m\n",
      "\u001b[34mSM_INSTANCE_GROUPS=[\"homogeneousCluster\"]\u001b[0m\n",
      "\u001b[34mSM_INSTANCE_GROUPS_DICT={\"homogeneousCluster\":{\"hosts\":[\"algo-1\"],\"instance_group_name\":\"homogeneousCluster\",\"instance_type\":\"ml.m5.2xlarge\"}}\u001b[0m\n",
      "\u001b[34mSM_DISTRIBUTION_INSTANCE_GROUPS=[]\u001b[0m\n",
      "\u001b[34mSM_IS_HETERO=false\u001b[0m\n",
      "\u001b[34mSM_MODULE_NAME=training\u001b[0m\n",
      "\u001b[34mSM_LOG_LEVEL=20\u001b[0m\n",
      "\u001b[34mSM_FRAMEWORK_MODULE=sagemaker_pytorch_container.training:main\u001b[0m\n",
      "\u001b[34mSM_INPUT_DIR=/opt/ml/input\u001b[0m\n",
      "\u001b[34mSM_INPUT_CONFIG_DIR=/opt/ml/input/config\u001b[0m\n",
      "\u001b[34mSM_OUTPUT_DIR=/opt/ml/output\u001b[0m\n",
      "\u001b[34mSM_NUM_CPUS=8\u001b[0m\n",
      "\u001b[34mSM_NUM_GPUS=0\u001b[0m\n",
      "\u001b[34mSM_NUM_NEURONS=0\u001b[0m\n",
      "\u001b[34mSM_MODEL_DIR=/opt/ml/model\u001b[0m\n",
      "\u001b[34mSM_MODULE_DIR=/opt/ml/code\u001b[0m\n",
      "\u001b[34mSM_TRAINING_ENV={\"additional_framework_parameters\":{},\"channel_input_dirs\":{\"training\":\"/opt/ml/input/data/training\"},\"current_host\":\"algo-1\",\"current_instance_group\":\"homogeneousCluster\",\"current_instance_group_hosts\":[\"algo-1\"],\"current_instance_type\":\"ml.m5.2xlarge\",\"distribution_hosts\":[],\"distribution_instance_groups\":[],\"framework_module\":\"sagemaker_pytorch_container.training:main\",\"hosts\":[\"algo-1\"],\"hyperparameters\":{\"batch-size\":256,\"dropout\":0.8,\"epochs\":100,\"filters-1\":128,\"filters-2\":256,\"filters-3\":128,\"hidden-size\":128,\"kernel-size-1\":8,\"kernel-size-2\":5,\"kernel-size-3\":3,\"lr\":0.001,\"num-layers\":1},\"input_config_dir\":\"/opt/ml/input/config\",\"input_data_config\":{\"training\":{\"RecordWrapperType\":\"None\",\"S3DistributionType\":\"FullyReplicated\",\"TrainingInputMode\":\"File\"}},\"input_dir\":\"/opt/ml/input\",\"instance_groups\":[\"homogeneousCluster\"],\"instance_groups_dict\":{\"homogeneousCluster\":{\"hosts\":[\"algo-1\"],\"instance_group_name\":\"homogeneousCluster\",\"instance_type\":\"ml.m5.2xlarge\"}},\"is_hetero\":false,\"is_master\":true,\"is_modelparallel_enabled\":null,\"is_smddpmprun_installed\":false,\"is_smddprun_installed\":false,\"job_name\":\"lstm-fcn-v1-14-2024-03-05-16-20-01-652\",\"log_level\":20,\"master_hostname\":\"algo-1\",\"model_dir\":\"/opt/ml/model\",\"module_dir\":\"/opt/ml/code\",\"module_name\":\"training\",\"network_interface_name\":\"eth0\",\"num_cpus\":8,\"num_gpus\":0,\"num_neurons\":0,\"output_data_dir\":\"/opt/ml/output/data\",\"output_dir\":\"/opt/ml/output\",\"output_intermediate_dir\":\"/opt/ml/output/intermediate\",\"resource_config\":{\"current_group_name\":\"homogeneousCluster\",\"current_host\":\"algo-1\",\"current_instance_type\":\"ml.m5.2xlarge\",\"hosts\":[\"algo-1\"],\"instance_groups\":[{\"hosts\":[\"algo-1\"],\"instance_group_name\":\"homogeneousCluster\",\"instance_type\":\"ml.m5.2xlarge\"}],\"network_interface_name\":\"eth0\"},\"user_entry_point\":\"training.py\"}\u001b[0m\n",
      "\u001b[34mSM_USER_ARGS=[\"--batch-size\",\"256\",\"--dropout\",\"0.8\",\"--epochs\",\"100\",\"--filters-1\",\"128\",\"--filters-2\",\"256\",\"--filters-3\",\"128\",\"--hidden-size\",\"128\",\"--kernel-size-1\",\"8\",\"--kernel-size-2\",\"5\",\"--kernel-size-3\",\"3\",\"--lr\",\"0.001\",\"--num-layers\",\"1\"]\u001b[0m\n",
      "\u001b[34mSM_OUTPUT_INTERMEDIATE_DIR=/opt/ml/output/intermediate\u001b[0m\n",
      "\u001b[34mSM_CHANNEL_TRAINING=/opt/ml/input/data/training\u001b[0m\n",
      "\u001b[34mSM_HP_BATCH-SIZE=256\u001b[0m\n",
      "\u001b[34mSM_HP_DROPOUT=0.8\u001b[0m\n",
      "\u001b[34mSM_HP_EPOCHS=100\u001b[0m\n",
      "\u001b[34mSM_HP_FILTERS-1=128\u001b[0m\n",
      "\u001b[34mSM_HP_FILTERS-2=256\u001b[0m\n",
      "\u001b[34mSM_HP_FILTERS-3=128\u001b[0m\n",
      "\u001b[34mSM_HP_HIDDEN-SIZE=128\u001b[0m\n",
      "\u001b[34mSM_HP_KERNEL-SIZE-1=8\u001b[0m\n",
      "\u001b[34mSM_HP_KERNEL-SIZE-2=5\u001b[0m\n",
      "\u001b[34mSM_HP_KERNEL-SIZE-3=3\u001b[0m\n",
      "\u001b[34mSM_HP_LR=0.001\u001b[0m\n",
      "\u001b[34mSM_HP_NUM-LAYERS=1\u001b[0m\n",
      "\u001b[34mPYTHONPATH=/opt/ml/code:/opt/conda/bin:/opt/conda/lib/python310.zip:/opt/conda/lib/python3.10:/opt/conda/lib/python3.10/lib-dynload:/opt/conda/lib/python3.10/site-packages\u001b[0m\n",
      "\u001b[34mInvoking script with the following command:\u001b[0m\n",
      "\u001b[34m/opt/conda/bin/python3.10 training.py --batch-size 256 --dropout 0.8 --epochs 100 --filters-1 128 --filters-2 256 --filters-3 128 --hidden-size 128 --kernel-size-1 8 --kernel-size-2 5 --kernel-size-3 3 --lr 0.001 --num-layers 1\u001b[0m\n",
      "\u001b[34m2024-03-05 16:24:32,979 sagemaker-training-toolkit INFO     Exceptions not imported for SageMaker Debugger as it is not installed.\u001b[0m\n",
      "\u001b[34m2024-03-05 16:24:32,979 sagemaker-training-toolkit INFO     Exceptions not imported for SageMaker TF as Tensorflow is not installed.\u001b[0m\n",
      "\u001b[34m--------------------------------------\u001b[0m\n",
      "\u001b[34mTraining on 3205 time series.\u001b[0m\n",
      "\u001b[34mTime series length: 187\u001b[0m\n",
      "\u001b[34mTime series labels: [0, 1, 2, 3, 4]\u001b[0m\n",
      "\u001b[34m--------------------------------------\u001b[0m\n",
      "\u001b[34m--------------------------------------\u001b[0m\n",
      "\u001b[34mBuilding the model.\u001b[0m\n",
      "\u001b[34mNumber of parameters: 428667\u001b[0m\n",
      "\u001b[34m--------------------------------------\u001b[0m\n",
      "\u001b[34m--------------------------------------\u001b[0m\n",
      "\u001b[34mTraining the model.\u001b[0m\n",
      "\u001b[34mepoch: 1 train_loss: 0.00462954 train_accuracy: 0.63806552\u001b[0m\n",
      "\u001b[34mepoch: 2 train_loss: 0.00366485 train_accuracy: 0.73884555\u001b[0m\n",
      "\u001b[34mepoch: 3 train_loss: 0.00288718 train_accuracy: 0.79188768\u001b[0m\n",
      "\u001b[34mepoch: 4 train_loss: 0.00235251 train_accuracy: 0.84711388\u001b[0m\n",
      "\u001b[34mepoch: 5 train_loss: 0.00192048 train_accuracy: 0.87051482\u001b[0m\n",
      "\u001b[34mepoch: 6 train_loss: 0.00172313 train_accuracy: 0.89204368\u001b[0m\n",
      "\u001b[34mepoch: 7 train_loss: 0.00142033 train_accuracy: 0.91544462\u001b[0m\n",
      "\u001b[34mepoch: 8 train_loss: 0.00123766 train_accuracy: 0.93229329\u001b[0m\n",
      "\u001b[34mepoch: 9 train_loss: 0.00104646 train_accuracy: 0.93978159\u001b[0m\n",
      "\u001b[34mepoch: 10 train_loss: 0.00091431 train_accuracy: 0.95195008\u001b[0m\n",
      "\u001b[34mepoch: 11 train_loss: 0.00079868 train_accuracy: 0.95850234\u001b[0m\n",
      "\u001b[34mepoch: 12 train_loss: 0.00077162 train_accuracy: 0.96068643\u001b[0m\n",
      "\u001b[34mepoch: 13 train_loss: 0.00067563 train_accuracy: 0.96630265\u001b[0m\n",
      "\u001b[34mepoch: 14 train_loss: 0.00060390 train_accuracy: 0.96848674\u001b[0m\n",
      "\u001b[34mepoch: 15 train_loss: 0.00069129 train_accuracy: 0.95195008\u001b[0m\n",
      "\u001b[34mepoch: 16 train_loss: 0.00050627 train_accuracy: 0.97254290\u001b[0m\n",
      "\u001b[34mepoch: 17 train_loss: 0.00069484 train_accuracy: 0.94758190\u001b[0m\n",
      "\u001b[34mepoch: 18 train_loss: 0.00043005 train_accuracy: 0.97722309\u001b[0m\n",
      "\u001b[34mepoch: 19 train_loss: 0.00039070 train_accuracy: 0.97909516\u001b[0m\n",
      "\u001b[34mepoch: 20 train_loss: 0.00036565 train_accuracy: 0.98315133\u001b[0m\n",
      "\u001b[34mepoch: 21 train_loss: 0.00034727 train_accuracy: 0.98471139\u001b[0m\n",
      "\u001b[34mepoch: 22 train_loss: 0.00029766 train_accuracy: 0.98627145\u001b[0m\n",
      "\u001b[34mepoch: 23 train_loss: 0.00026948 train_accuracy: 0.98533541\u001b[0m\n",
      "\u001b[34mepoch: 24 train_loss: 0.00025185 train_accuracy: 0.99282371\u001b[0m\n",
      "\u001b[34mepoch: 25 train_loss: 0.00024379 train_accuracy: 0.98814353\u001b[0m\n",
      "\u001b[34mepoch: 26 train_loss: 0.00024048 train_accuracy: 0.99032761\u001b[0m\n",
      "\u001b[34mepoch: 27 train_loss: 0.00018961 train_accuracy: 0.99531981\u001b[0m\n",
      "\u001b[34mepoch: 28 train_loss: 0.00015539 train_accuracy: 0.99469579\u001b[0m\n",
      "\u001b[34mepoch: 29 train_loss: 0.00014065 train_accuracy: 0.99594384\u001b[0m\n",
      "\u001b[34mepoch: 30 train_loss: 0.00013566 train_accuracy: 0.99750390\u001b[0m\n",
      "\u001b[34mepoch: 31 train_loss: 0.00013317 train_accuracy: 0.99594384\u001b[0m\n",
      "\u001b[34mepoch: 32 train_loss: 0.00016927 train_accuracy: 0.99344774\u001b[0m\n",
      "\u001b[34mepoch: 33 train_loss: 0.00051707 train_accuracy: 0.95663027\u001b[0m\n",
      "\u001b[34mepoch: 34 train_loss: 0.00014447 train_accuracy: 0.99594384\u001b[0m\n",
      "\u001b[34mepoch: 35 train_loss: 0.00012235 train_accuracy: 0.99719189\u001b[0m\n",
      "\u001b[34mepoch: 36 train_loss: 0.00009943 train_accuracy: 0.99750390\u001b[0m\n",
      "\u001b[34mepoch: 37 train_loss: 0.00008213 train_accuracy: 0.99937598\u001b[0m\n",
      "\u001b[34mepoch: 38 train_loss: 0.00012059 train_accuracy: 0.99313573\u001b[0m\n",
      "\u001b[34mepoch: 39 train_loss: 0.00007427 train_accuracy: 0.99875195\u001b[0m\n",
      "\u001b[34mepoch: 40 train_loss: 0.00006623 train_accuracy: 0.99937598\u001b[0m\n",
      "\u001b[34mepoch: 41 train_loss: 0.00006491 train_accuracy: 0.99937598\u001b[0m\n",
      "\u001b[34mepoch: 42 train_loss: 0.00006538 train_accuracy: 0.99937598\u001b[0m\n",
      "\u001b[34mepoch: 43 train_loss: 0.00005484 train_accuracy: 1.00000000\u001b[0m\n",
      "\u001b[34mepoch: 44 train_loss: 0.00004740 train_accuracy: 1.00000000\u001b[0m\n",
      "\u001b[34mepoch: 45 train_loss: 0.00003658 train_accuracy: 1.00000000\u001b[0m\n",
      "\u001b[34mepoch: 46 train_loss: 0.00006015 train_accuracy: 0.99968799\u001b[0m\n",
      "\u001b[34mepoch: 47 train_loss: 0.00004284 train_accuracy: 1.00000000\u001b[0m\n",
      "\u001b[34mepoch: 48 train_loss: 0.00003862 train_accuracy: 1.00000000\u001b[0m\n",
      "\u001b[34mepoch: 49 train_loss: 0.00004862 train_accuracy: 1.00000000\u001b[0m\n",
      "\u001b[34mepoch: 50 train_loss: 0.00003860 train_accuracy: 0.99968799\u001b[0m\n",
      "\u001b[34mepoch: 51 train_loss: 0.00003805 train_accuracy: 0.99968799\u001b[0m\n",
      "\u001b[34mepoch: 52 train_loss: 0.00004306 train_accuracy: 1.00000000\u001b[0m\n",
      "\u001b[34mepoch: 53 train_loss: 0.00003526 train_accuracy: 1.00000000\u001b[0m\n",
      "\u001b[34mepoch: 54 train_loss: 0.00003532 train_accuracy: 1.00000000\u001b[0m\n",
      "\u001b[34mepoch: 55 train_loss: 0.00003178 train_accuracy: 1.00000000\u001b[0m\n",
      "\u001b[34mepoch: 56 train_loss: 0.00002362 train_accuracy: 1.00000000\u001b[0m\n",
      "\u001b[34mepoch: 57 train_loss: 0.00003245 train_accuracy: 1.00000000\u001b[0m\n",
      "\u001b[34mepoch: 58 train_loss: 0.00004290 train_accuracy: 0.99906396\u001b[0m\n",
      "\u001b[34mepoch: 59 train_loss: 0.00002530 train_accuracy: 1.00000000\u001b[0m\n",
      "\u001b[34mepoch: 60 train_loss: 0.00002052 train_accuracy: 1.00000000\u001b[0m\n",
      "\u001b[34mepoch: 61 train_loss: 0.00002766 train_accuracy: 1.00000000\u001b[0m\n",
      "\u001b[34mepoch: 62 train_loss: 0.00002421 train_accuracy: 1.00000000\u001b[0m\n",
      "\u001b[34mepoch: 63 train_loss: 0.00002957 train_accuracy: 0.99968799\u001b[0m\n",
      "\u001b[34mepoch: 64 train_loss: 0.00008917 train_accuracy: 0.99500780\u001b[0m\n",
      "\u001b[34mepoch: 65 train_loss: 0.00003119 train_accuracy: 1.00000000\u001b[0m\n",
      "\u001b[34mepoch: 66 train_loss: 0.00002070 train_accuracy: 1.00000000\u001b[0m\n",
      "\u001b[34mepoch: 67 train_loss: 0.00002437 train_accuracy: 1.00000000\u001b[0m\n",
      "\u001b[34mepoch: 68 train_loss: 0.00001983 train_accuracy: 1.00000000\u001b[0m\n",
      "\u001b[34mepoch: 69 train_loss: 0.00002031 train_accuracy: 1.00000000\u001b[0m\n",
      "\u001b[34mepoch: 70 train_loss: 0.00001067 train_accuracy: 1.00000000\u001b[0m\n",
      "\u001b[34mepoch: 71 train_loss: 0.00000875 train_accuracy: 1.00000000\u001b[0m\n",
      "\u001b[34mepoch: 72 train_loss: 0.00001162 train_accuracy: 1.00000000\u001b[0m\n",
      "\u001b[34mepoch: 73 train_loss: 0.00001176 train_accuracy: 1.00000000\u001b[0m\n",
      "\u001b[34mepoch: 74 train_loss: 0.00001375 train_accuracy: 1.00000000\u001b[0m\n",
      "\u001b[34mepoch: 75 train_loss: 0.00001075 train_accuracy: 1.00000000\u001b[0m\n",
      "\u001b[34mepoch: 76 train_loss: 0.00000813 train_accuracy: 1.00000000\u001b[0m\n",
      "\u001b[34mepoch: 77 train_loss: 0.00000778 train_accuracy: 1.00000000\u001b[0m\n",
      "\u001b[34mepoch: 78 train_loss: 0.00000676 train_accuracy: 1.00000000\u001b[0m\n",
      "\u001b[34mepoch: 79 train_loss: 0.00000784 train_accuracy: 1.00000000\u001b[0m\n",
      "\u001b[34mepoch: 80 train_loss: 0.00000877 train_accuracy: 1.00000000\u001b[0m\n",
      "\u001b[34mepoch: 81 train_loss: 0.00000674 train_accuracy: 1.00000000\u001b[0m\n",
      "\u001b[34mepoch: 82 train_loss: 0.00000763 train_accuracy: 1.00000000\u001b[0m\n",
      "\u001b[34mepoch: 83 train_loss: 0.00000694 train_accuracy: 1.00000000\u001b[0m\n",
      "\u001b[34mepoch: 84 train_loss: 0.00000927 train_accuracy: 1.00000000\u001b[0m\n",
      "\u001b[34mepoch: 85 train_loss: 0.00000625 train_accuracy: 1.00000000\u001b[0m\n",
      "\u001b[34mepoch: 86 train_loss: 0.00000813 train_accuracy: 1.00000000\u001b[0m\n",
      "\u001b[34mepoch: 87 train_loss: 0.00000867 train_accuracy: 1.00000000\u001b[0m\n",
      "\u001b[34mepoch: 88 train_loss: 0.00000611 train_accuracy: 1.00000000\u001b[0m\n",
      "\u001b[34mepoch: 89 train_loss: 0.00000600 train_accuracy: 1.00000000\u001b[0m\n",
      "\u001b[34mepoch: 90 train_loss: 0.00000857 train_accuracy: 1.00000000\u001b[0m\n",
      "\u001b[34mepoch: 91 train_loss: 0.00000686 train_accuracy: 1.00000000\u001b[0m\n",
      "\u001b[34mepoch: 92 train_loss: 0.00000964 train_accuracy: 1.00000000\u001b[0m\n",
      "\u001b[34mepoch: 93 train_loss: 0.00000566 train_accuracy: 1.00000000\u001b[0m\n",
      "\u001b[34mepoch: 94 train_loss: 0.00000515 train_accuracy: 1.00000000\u001b[0m\n",
      "\u001b[34mepoch: 95 train_loss: 0.00000461 train_accuracy: 1.00000000\u001b[0m\n",
      "\u001b[34mepoch: 96 train_loss: 0.00000518 train_accuracy: 1.00000000\u001b[0m\n",
      "\u001b[34mepoch: 97 train_loss: 0.00000564 train_accuracy: 1.00000000\u001b[0m\n",
      "\u001b[34mepoch: 98 train_loss: 0.00000778 train_accuracy: 1.00000000\u001b[0m\n",
      "\u001b[34mepoch: 99 train_loss: 0.00000841 train_accuracy: 1.00000000\u001b[0m\n",
      "\u001b[34mepoch: 100 train_loss: 0.00000553 train_accuracy: 1.00000000\u001b[0m\n",
      "\u001b[34m--------------------------------------\u001b[0m\n",
      "\u001b[34mScoring the model.\u001b[0m\n",
      "\u001b[34mtrain:loss 0.00000553\u001b[0m\n",
      "\u001b[34mtrain:acc 1.00000000\u001b[0m\n",
      "\u001b[34m--------------------------------------\u001b[0m\n",
      "\u001b[34m2024-03-05 16:33:46,025 sagemaker-training-toolkit INFO     Waiting for the process to finish and give a return code.\u001b[0m\n",
      "\u001b[34m2024-03-05 16:33:46,025 sagemaker-training-toolkit INFO     Done waiting for a return code. Received 0 from exiting process.\u001b[0m\n",
      "\u001b[34m2024-03-05 16:33:46,025 sagemaker-training-toolkit INFO     Reporting training SUCCESS\u001b[0m\n",
      "\n",
      "2024-03-05 16:34:04 Uploading - Uploading generated training model\n",
      "2024-03-05 16:34:04 Completed - Training job completed\n",
      "Training seconds: 769\n",
      "Billable seconds: 769\n"
     ]
    }
   ],
   "source": [
    "estimator = sagemaker.algorithm.AlgorithmEstimator(\n",
    "    algorithm_arn=algo_arn,\n",
    "    role=role,\n",
    "    instance_count=1,\n",
    "    instance_type=instance_type,\n",
    "    input_mode=\"File\",\n",
    "    sagemaker_session=sagemaker_session,\n",
    "    hyperparameters={\n",
    "        \"num-layers\": 1,\n",
    "        \"hidden-size\": 128,\n",
    "        \"dropout\": 0.8,\n",
    "        \"filters-1\": 128,\n",
    "        \"filters-2\": 256,\n",
    "        \"filters-3\": 128,\n",
    "        \"kernel-size-1\": 8,\n",
    "        \"kernel-size-2\": 5,\n",
    "        \"kernel-size-3\": 3,\n",
    "        \"batch-size\": 256,\n",
    "        \"lr\": 0.001,\n",
    "        \"epochs\": 100,\n",
    "    },\n",
    ")\n",
    "\n",
    "estimator.fit({\"training\": training_data})"
   ]
  },
  {
   "cell_type": "markdown",
   "id": "a966df93-8ad4-4b49-8925-b4ff910aad85",
   "metadata": {},
   "source": [
    "### 4. Inference"
   ]
  },
  {
   "cell_type": "markdown",
   "id": "c0b7c5a0-a457-4cf8-9bf9-433561b550cd",
   "metadata": {},
   "source": [
    "Deploy the model to a real-time endpoint."
   ]
  },
  {
   "cell_type": "code",
   "execution_count": 26,
   "id": "e91e324b-2022-418a-bf86-037341648f59",
   "metadata": {
    "tags": []
   },
   "outputs": [
    {
     "name": "stderr",
     "output_type": "stream",
     "text": [
      "INFO:sagemaker:Creating model package with name: lstm-fcn-v1-14-2024-03-05-16-34-23-098\n"
     ]
    },
    {
     "name": "stdout",
     "output_type": "stream",
     "text": [
      "........."
     ]
    },
    {
     "name": "stderr",
     "output_type": "stream",
     "text": [
      "INFO:sagemaker:Creating model with name: lstm-fcn-v1-14-2024-03-05-16-34-23-098\n"
     ]
    },
    {
     "name": "stdout",
     "output_type": "stream",
     "text": [
      "\n"
     ]
    },
    {
     "name": "stderr",
     "output_type": "stream",
     "text": [
      "INFO:sagemaker:Creating endpoint-config with name lstm-fcn-v1-14-2024-03-05-16-34-23-098\n",
      "INFO:sagemaker:Creating endpoint with name lstm-fcn-v1-14-2024-03-05-16-34-23-098\n"
     ]
    },
    {
     "name": "stdout",
     "output_type": "stream",
     "text": [
      "--------!"
     ]
    }
   ],
   "source": [
    "serializer = sagemaker.serializers.CSVSerializer(content_type=\"text/csv\")\n",
    "deserializer = sagemaker.deserializers.CSVDeserializer(accept=\"text/csv\")\n",
    "\n",
    "predictor = estimator.deploy(\n",
    "    initial_instance_count=1,\n",
    "    instance_type=instance_type,\n",
    "    serializer=serializer,\n",
    "    deserializer=deserializer,\n",
    ")"
   ]
  },
  {
   "cell_type": "markdown",
   "id": "93dabb9d-d412-41cf-89b6-3141b20a3aba",
   "metadata": {
    "tags": []
   },
   "source": [
    "Invoke the endpoint."
   ]
  },
  {
   "cell_type": "code",
   "execution_count": 27,
   "id": "8d8aee31-6ba6-45bf-97e0-6c94c132ed7e",
   "metadata": {
    "tags": []
   },
   "outputs": [],
   "source": [
    "batch_size = 100\n",
    "\n",
    "predictions = pd.DataFrame()\n",
    "\n",
    "for i in range(0, len(test_dataset), batch_size):\n",
    "\n",
    "    response = sagemaker_session.sagemaker_runtime_client.invoke_endpoint(\n",
    "        EndpointName=predictor.endpoint_name,\n",
    "        ContentType=\"text/csv\",\n",
    "        Body=serializer.serialize(test_dataset.iloc[i:i + batch_size, 1:])\n",
    "    )\n",
    "\n",
    "    predictions = pd.concat([\n",
    "        predictions,\n",
    "        pd.DataFrame(\n",
    "            data=deserializer.deserialize(response[\"Body\"], content_type=\"text/csv\"),\n",
    "            dtype=float\n",
    "        )\n",
    "    ], axis=0)"
   ]
  },
  {
   "cell_type": "code",
   "execution_count": 28,
   "id": "a968a0b3-cfc6-4767-bdcb-ad69a26ff9ef",
   "metadata": {
    "tags": []
   },
   "outputs": [
    {
     "data": {
      "text/plain": [
       "(21892, 1)"
      ]
     },
     "execution_count": 28,
     "metadata": {},
     "output_type": "execute_result"
    }
   ],
   "source": [
    "predictions.shape"
   ]
  },
  {
   "cell_type": "code",
   "execution_count": 29,
   "id": "62f09ed6-8ed0-4873-b53b-288ff3ce8ce6",
   "metadata": {
    "tags": []
   },
   "outputs": [
    {
     "data": {
      "text/html": [
       "<div>\n",
       "<style scoped>\n",
       "    .dataframe tbody tr th:only-of-type {\n",
       "        vertical-align: middle;\n",
       "    }\n",
       "\n",
       "    .dataframe tbody tr th {\n",
       "        vertical-align: top;\n",
       "    }\n",
       "\n",
       "    .dataframe thead th {\n",
       "        text-align: right;\n",
       "    }\n",
       "</style>\n",
       "<table border=\"1\" class=\"dataframe\">\n",
       "  <thead>\n",
       "    <tr style=\"text-align: right;\">\n",
       "      <th></th>\n",
       "      <th>0</th>\n",
       "    </tr>\n",
       "  </thead>\n",
       "  <tbody>\n",
       "    <tr>\n",
       "      <th>0</th>\n",
       "      <td>0.0</td>\n",
       "    </tr>\n",
       "    <tr>\n",
       "      <th>1</th>\n",
       "      <td>0.0</td>\n",
       "    </tr>\n",
       "    <tr>\n",
       "      <th>2</th>\n",
       "      <td>0.0</td>\n",
       "    </tr>\n",
       "    <tr>\n",
       "      <th>3</th>\n",
       "      <td>0.0</td>\n",
       "    </tr>\n",
       "    <tr>\n",
       "      <th>4</th>\n",
       "      <td>0.0</td>\n",
       "    </tr>\n",
       "  </tbody>\n",
       "</table>\n",
       "</div>"
      ],
      "text/plain": [
       "     0\n",
       "0  0.0\n",
       "1  0.0\n",
       "2  0.0\n",
       "3  0.0\n",
       "4  0.0"
      ]
     },
     "execution_count": 29,
     "metadata": {},
     "output_type": "execute_result"
    }
   ],
   "source": [
    "predictions.head()"
   ]
  },
  {
   "cell_type": "code",
   "execution_count": 30,
   "id": "c0cc24cf-2c48-43da-a570-5d1e1829857f",
   "metadata": {
    "tags": []
   },
   "outputs": [
    {
     "data": {
      "text/plain": [
       "array([0., 1., 2., 3., 4.])"
      ]
     },
     "execution_count": 30,
     "metadata": {},
     "output_type": "execute_result"
    }
   ],
   "source": [
    "predictions.iloc[:, 0].sort_values().unique()"
   ]
  },
  {
   "cell_type": "code",
   "execution_count": 31,
   "id": "746efc9c-4a47-4d89-9dca-8cd0531a28d8",
   "metadata": {
    "tags": []
   },
   "outputs": [
    {
     "data": {
      "text/plain": [
       "0.0    18090\n",
       "1.0      583\n",
       "2.0     1448\n",
       "3.0      168\n",
       "4.0     1603\n",
       "Name: count, dtype: int64"
      ]
     },
     "execution_count": 31,
     "metadata": {},
     "output_type": "execute_result"
    }
   ],
   "source": [
    "predictions.iloc[:, 0].rename(None).value_counts().sort_index()"
   ]
  },
  {
   "cell_type": "markdown",
   "id": "2c15f4ef-f2fe-4c1a-93d5-3daa7829dbdb",
   "metadata": {},
   "source": [
    "Calculate the accuracy."
   ]
  },
  {
   "cell_type": "code",
   "execution_count": 32,
   "id": "b4862698-cc70-4cca-b83d-1cf26d4e9d85",
   "metadata": {
    "tags": []
   },
   "outputs": [
    {
     "data": {
      "text/plain": [
       "0.9979444545952859"
      ]
     },
     "execution_count": 32,
     "metadata": {},
     "output_type": "execute_result"
    }
   ],
   "source": [
    "accuracy_score(y_true=test_dataset.iloc[:, 0], y_pred=predictions.iloc[:, 0])"
   ]
  },
  {
   "cell_type": "markdown",
   "id": "13564664-778b-4e87-9f78-d9976db1ff9b",
   "metadata": {},
   "source": [
    "Calculate the confusion matrix."
   ]
  },
  {
   "cell_type": "code",
   "execution_count": 33,
   "id": "cdaa0eb1-3fa2-4d94-9a1a-536c45abec7c",
   "metadata": {},
   "outputs": [
    {
     "data": {
      "text/html": [
       "<div>\n",
       "<style scoped>\n",
       "    .dataframe tbody tr th:only-of-type {\n",
       "        vertical-align: middle;\n",
       "    }\n",
       "\n",
       "    .dataframe tbody tr th {\n",
       "        vertical-align: top;\n",
       "    }\n",
       "\n",
       "    .dataframe thead th {\n",
       "        text-align: right;\n",
       "    }\n",
       "</style>\n",
       "<table border=\"1\" class=\"dataframe\">\n",
       "  <thead>\n",
       "    <tr style=\"text-align: right;\">\n",
       "      <th></th>\n",
       "      <th>0</th>\n",
       "      <th>1</th>\n",
       "      <th>2</th>\n",
       "      <th>3</th>\n",
       "      <th>4</th>\n",
       "    </tr>\n",
       "  </thead>\n",
       "  <tbody>\n",
       "    <tr>\n",
       "      <th>0</th>\n",
       "      <td>18090</td>\n",
       "      <td>23</td>\n",
       "      <td>5</td>\n",
       "      <td>0</td>\n",
       "      <td>0</td>\n",
       "    </tr>\n",
       "    <tr>\n",
       "      <th>1</th>\n",
       "      <td>0</td>\n",
       "      <td>553</td>\n",
       "      <td>3</td>\n",
       "      <td>0</td>\n",
       "      <td>0</td>\n",
       "    </tr>\n",
       "    <tr>\n",
       "      <th>2</th>\n",
       "      <td>0</td>\n",
       "      <td>7</td>\n",
       "      <td>1439</td>\n",
       "      <td>2</td>\n",
       "      <td>0</td>\n",
       "    </tr>\n",
       "    <tr>\n",
       "      <th>3</th>\n",
       "      <td>0</td>\n",
       "      <td>0</td>\n",
       "      <td>0</td>\n",
       "      <td>162</td>\n",
       "      <td>0</td>\n",
       "    </tr>\n",
       "    <tr>\n",
       "      <th>4</th>\n",
       "      <td>0</td>\n",
       "      <td>0</td>\n",
       "      <td>1</td>\n",
       "      <td>4</td>\n",
       "      <td>1603</td>\n",
       "    </tr>\n",
       "  </tbody>\n",
       "</table>\n",
       "</div>"
      ],
      "text/plain": [
       "       0    1     2    3     4\n",
       "0  18090   23     5    0     0\n",
       "1      0  553     3    0     0\n",
       "2      0    7  1439    2     0\n",
       "3      0    0     0  162     0\n",
       "4      0    0     1    4  1603"
      ]
     },
     "execution_count": 33,
     "metadata": {},
     "output_type": "execute_result"
    }
   ],
   "source": [
    "pd.DataFrame(data=confusion_matrix(y_true=test_dataset.iloc[:, 0], y_pred=predictions.iloc[:, 0], labels=list(range(5))), index=list(range(5)), columns=list(range(5)))"
   ]
  },
  {
   "cell_type": "markdown",
   "id": "08059c80-605e-4be1-b06f-da838efb76e5",
   "metadata": {},
   "source": [
    "Delete the model."
   ]
  },
  {
   "cell_type": "code",
   "execution_count": 34,
   "id": "e5a1e642-b08a-4e59-ac02-52da4f1f3476",
   "metadata": {
    "tags": []
   },
   "outputs": [
    {
     "name": "stderr",
     "output_type": "stream",
     "text": [
      "INFO:sagemaker:Deleting model with name: lstm-fcn-v1-14-2024-03-05-16-34-23-098\n"
     ]
    }
   ],
   "source": [
    "predictor.delete_model()"
   ]
  },
  {
   "cell_type": "markdown",
   "id": "0880e9c7-533f-44b6-a41f-f3166f8bef3c",
   "metadata": {
    "tags": []
   },
   "source": [
    "Delete the endpoint."
   ]
  },
  {
   "cell_type": "code",
   "execution_count": 35,
   "id": "2e391df7-3029-4718-80e7-18d5d865c886",
   "metadata": {
    "tags": []
   },
   "outputs": [
    {
     "name": "stderr",
     "output_type": "stream",
     "text": [
      "INFO:sagemaker:Deleting endpoint configuration with name: lstm-fcn-v1-14-2024-03-05-16-34-23-098\n",
      "INFO:sagemaker:Deleting endpoint with name: lstm-fcn-v1-14-2024-03-05-16-34-23-098\n"
     ]
    }
   ],
   "source": [
    "predictor.delete_endpoint()"
   ]
  }
 ],
 "metadata": {
  "kernelspec": {
   "display_name": "conda_python3",
   "language": "python",
   "name": "conda_python3"
  },
  "language_info": {
   "codemirror_mode": {
    "name": "ipython",
    "version": 3
   },
   "file_extension": ".py",
   "mimetype": "text/x-python",
   "name": "python",
   "nbconvert_exporter": "python",
   "pygments_lexer": "ipython3",
   "version": "3.10.13"
  }
 },
 "nbformat": 4,
 "nbformat_minor": 5
}
